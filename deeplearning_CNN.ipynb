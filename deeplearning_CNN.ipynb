{
 "cells": [
  {
   "cell_type": "code",
   "execution_count": 1,
   "metadata": {},
   "outputs": [],
   "source": [
    "import pandas as pd\n",
    "import numpy as np\n",
    "import re\n",
    "import spacy\n",
    "import seaborn as sns\n",
    "import nltk\n",
    "import string\n",
    "import matplotlib.pyplot as plt\n",
    "from sklearn.model_selection import train_test_split\n",
    "import os"
   ]
  },
  {
   "cell_type": "code",
   "execution_count": 2,
   "metadata": {},
   "outputs": [
    {
     "name": "stderr",
     "output_type": "stream",
     "text": [
      "Using TensorFlow backend.\n"
     ]
    }
   ],
   "source": [
    "import keras\n",
    "from keras.preprocessing.sequence import pad_sequences\n",
    "from keras.models import Sequential\n",
    "from keras.layers import Dense,Flatten,Dropout,Input,Conv1D\n",
    "from keras.layers import Embedding,LSTM,GlobalMaxPooling1D,MaxPooling1D\n",
    "from keras.callbacks import ModelCheckpoint\n",
    "from keras.models import Model\n",
    "\n"
   ]
  },
  {
   "cell_type": "code",
   "execution_count": 3,
   "metadata": {},
   "outputs": [],
   "source": [
    "twit = pd.read_csv('train.csv')"
   ]
  },
  {
   "cell_type": "code",
   "execution_count": 4,
   "metadata": {},
   "outputs": [
    {
     "data": {
      "text/html": [
       "<div>\n",
       "<style scoped>\n",
       "    .dataframe tbody tr th:only-of-type {\n",
       "        vertical-align: middle;\n",
       "    }\n",
       "\n",
       "    .dataframe tbody tr th {\n",
       "        vertical-align: top;\n",
       "    }\n",
       "\n",
       "    .dataframe thead th {\n",
       "        text-align: right;\n",
       "    }\n",
       "</style>\n",
       "<table border=\"1\" class=\"dataframe\">\n",
       "  <thead>\n",
       "    <tr style=\"text-align: right;\">\n",
       "      <th></th>\n",
       "      <th>id</th>\n",
       "      <th>keyword</th>\n",
       "      <th>location</th>\n",
       "      <th>text</th>\n",
       "      <th>target</th>\n",
       "    </tr>\n",
       "  </thead>\n",
       "  <tbody>\n",
       "    <tr>\n",
       "      <td>0</td>\n",
       "      <td>1</td>\n",
       "      <td>NaN</td>\n",
       "      <td>NaN</td>\n",
       "      <td>Our Deeds are the Reason of this #earthquake M...</td>\n",
       "      <td>1</td>\n",
       "    </tr>\n",
       "    <tr>\n",
       "      <td>1</td>\n",
       "      <td>4</td>\n",
       "      <td>NaN</td>\n",
       "      <td>NaN</td>\n",
       "      <td>Forest fire near La Ronge Sask. Canada</td>\n",
       "      <td>1</td>\n",
       "    </tr>\n",
       "    <tr>\n",
       "      <td>2</td>\n",
       "      <td>5</td>\n",
       "      <td>NaN</td>\n",
       "      <td>NaN</td>\n",
       "      <td>All residents asked to 'shelter in place' are ...</td>\n",
       "      <td>1</td>\n",
       "    </tr>\n",
       "    <tr>\n",
       "      <td>3</td>\n",
       "      <td>6</td>\n",
       "      <td>NaN</td>\n",
       "      <td>NaN</td>\n",
       "      <td>13,000 people receive #wildfires evacuation or...</td>\n",
       "      <td>1</td>\n",
       "    </tr>\n",
       "    <tr>\n",
       "      <td>4</td>\n",
       "      <td>7</td>\n",
       "      <td>NaN</td>\n",
       "      <td>NaN</td>\n",
       "      <td>Just got sent this photo from Ruby #Alaska as ...</td>\n",
       "      <td>1</td>\n",
       "    </tr>\n",
       "  </tbody>\n",
       "</table>\n",
       "</div>"
      ],
      "text/plain": [
       "   id keyword location                                               text  \\\n",
       "0   1     NaN      NaN  Our Deeds are the Reason of this #earthquake M...   \n",
       "1   4     NaN      NaN             Forest fire near La Ronge Sask. Canada   \n",
       "2   5     NaN      NaN  All residents asked to 'shelter in place' are ...   \n",
       "3   6     NaN      NaN  13,000 people receive #wildfires evacuation or...   \n",
       "4   7     NaN      NaN  Just got sent this photo from Ruby #Alaska as ...   \n",
       "\n",
       "   target  \n",
       "0       1  \n",
       "1       1  \n",
       "2       1  \n",
       "3       1  \n",
       "4       1  "
      ]
     },
     "execution_count": 4,
     "metadata": {},
     "output_type": "execute_result"
    }
   ],
   "source": [
    "twit.head()"
   ]
  },
  {
   "cell_type": "code",
   "execution_count": 5,
   "metadata": {},
   "outputs": [],
   "source": [
    "twit_df = twit.drop(columns = ['id','keyword','location'])"
   ]
  },
  {
   "cell_type": "code",
   "execution_count": 6,
   "metadata": {},
   "outputs": [
    {
     "data": {
      "text/html": [
       "<div>\n",
       "<style scoped>\n",
       "    .dataframe tbody tr th:only-of-type {\n",
       "        vertical-align: middle;\n",
       "    }\n",
       "\n",
       "    .dataframe tbody tr th {\n",
       "        vertical-align: top;\n",
       "    }\n",
       "\n",
       "    .dataframe thead th {\n",
       "        text-align: right;\n",
       "    }\n",
       "</style>\n",
       "<table border=\"1\" class=\"dataframe\">\n",
       "  <thead>\n",
       "    <tr style=\"text-align: right;\">\n",
       "      <th></th>\n",
       "      <th>text</th>\n",
       "      <th>target</th>\n",
       "    </tr>\n",
       "  </thead>\n",
       "  <tbody>\n",
       "    <tr>\n",
       "      <td>0</td>\n",
       "      <td>Our Deeds are the Reason of this #earthquake M...</td>\n",
       "      <td>1</td>\n",
       "    </tr>\n",
       "    <tr>\n",
       "      <td>1</td>\n",
       "      <td>Forest fire near La Ronge Sask. Canada</td>\n",
       "      <td>1</td>\n",
       "    </tr>\n",
       "    <tr>\n",
       "      <td>2</td>\n",
       "      <td>All residents asked to 'shelter in place' are ...</td>\n",
       "      <td>1</td>\n",
       "    </tr>\n",
       "    <tr>\n",
       "      <td>3</td>\n",
       "      <td>13,000 people receive #wildfires evacuation or...</td>\n",
       "      <td>1</td>\n",
       "    </tr>\n",
       "    <tr>\n",
       "      <td>4</td>\n",
       "      <td>Just got sent this photo from Ruby #Alaska as ...</td>\n",
       "      <td>1</td>\n",
       "    </tr>\n",
       "  </tbody>\n",
       "</table>\n",
       "</div>"
      ],
      "text/plain": [
       "                                                text  target\n",
       "0  Our Deeds are the Reason of this #earthquake M...       1\n",
       "1             Forest fire near La Ronge Sask. Canada       1\n",
       "2  All residents asked to 'shelter in place' are ...       1\n",
       "3  13,000 people receive #wildfires evacuation or...       1\n",
       "4  Just got sent this photo from Ruby #Alaska as ...       1"
      ]
     },
     "execution_count": 6,
     "metadata": {},
     "output_type": "execute_result"
    }
   ],
   "source": [
    "twit_df.head()"
   ]
  },
  {
   "cell_type": "code",
   "execution_count": 7,
   "metadata": {},
   "outputs": [
    {
     "data": {
      "text/plain": [
       "0    4342\n",
       "1    3271\n",
       "Name: target, dtype: int64"
      ]
     },
     "execution_count": 7,
     "metadata": {},
     "output_type": "execute_result"
    }
   ],
   "source": [
    "pd.value_counts(twit_df['target'])"
   ]
  },
  {
   "cell_type": "code",
   "execution_count": 8,
   "metadata": {},
   "outputs": [],
   "source": [
    "nlp = spacy.load('en_core_web_sm')"
   ]
  },
  {
   "cell_type": "code",
   "execution_count": 9,
   "metadata": {},
   "outputs": [
    {
     "name": "stdout",
     "output_type": "stream",
     "text": [
      "326\n"
     ]
    }
   ],
   "source": [
    "print(len(nlp.Defaults.stop_words))\n",
    "stopwords = (nlp.Defaults.stop_words)"
   ]
  },
  {
   "cell_type": "code",
   "execution_count": 10,
   "metadata": {},
   "outputs": [],
   "source": [
    "def remove_URL(text):\n",
    "    url = re.compile(r'https?://\\S+|www\\.\\S\\s+')\n",
    "    return url.sub(r'',text)\n",
    "\n",
    "def remove_emoji(text):\n",
    "    emoji_pattern = re.compile(\"[\"\n",
    "        u\"\\U0001F600-\\U0001F64F\"  # emoticons\n",
    "        u\"\\U0001F300-\\U0001F5FF\"  # symbols & pictographs\n",
    "        u\"\\U0001F680-\\U0001F6FF\"  # transport & map symbols\n",
    "        u\"\\U0001F1E0-\\U0001F1FF\"  # flags (iOS)\n",
    "                           \"]+\", flags=re.UNICODE)\n",
    "    return emoji_pattern.sub(r'', text) # no emoji\n",
    "\n",
    "def remove_punct(text):\n",
    "    text  = \"\".join([char for char in text if char not in string.punctuation])\n",
    "    text = re.sub('[0-9]+', '', text)\n",
    "    return text\n",
    "    \n",
    "def stop_words(text):\n",
    "    text = \" \".join(word for word in text.split() if word not in stopwords)\n",
    "    return text"
   ]
  },
  {
   "cell_type": "code",
   "execution_count": 11,
   "metadata": {},
   "outputs": [
    {
     "data": {
      "text/plain": [
       "0                deeds reason earthquake allah forgive\n",
       "1                forest fire near la ronge sask canada\n",
       "2    residents asked shelter place notified officer...\n",
       "3    people receive wildfires evacuation orders cal...\n",
       "4    got sent photo ruby alaska smoke wildfires pou...\n",
       "Name: text, dtype: object"
      ]
     },
     "execution_count": 11,
     "metadata": {},
     "output_type": "execute_result"
    }
   ],
   "source": [
    "twit_df['text'] = twit_df['text'].apply(remove_URL)\n",
    "twit_df['text'] = twit_df['text'].apply(remove_emoji)\n",
    "twit_df['text'] = twit_df['text'].map(lambda x: remove_punct(x))\n",
    "twit_df['text'] = twit_df['text'].map(lambda x: x.lower())\n",
    "twit_df['text'] = twit_df['text'].apply(stop_words)\n",
    "\n",
    "twit_df['text'][0:5]"
   ]
  },
  {
   "cell_type": "code",
   "execution_count": 12,
   "metadata": {},
   "outputs": [],
   "source": [
    "X = twit_df['text']\n",
    "y = twit_df['target']"
   ]
  },
  {
   "cell_type": "code",
   "execution_count": 13,
   "metadata": {},
   "outputs": [],
   "source": [
    "X_train, X_val, y_train, y_val = train_test_split(X,y,test_size = 0.33,random_state = 42)"
   ]
  },
  {
   "cell_type": "code",
   "execution_count": 14,
   "metadata": {},
   "outputs": [
    {
     "name": "stdout",
     "output_type": "stream",
     "text": [
      "5836        photo postapocalypticflimflam prodding rubble\n",
      "30                                                    end\n",
      "1879                   man crush everyday cristianinspire\n",
      "6852    ptsdchat yes feel root shame found rubble trau...\n",
      "2673    autoames hoped join isis ventilated marines tr...\n",
      "Name: text, dtype: object\n",
      "(5100,)\n",
      "\n",
      "\n",
      "\n",
      "5836    0\n",
      "30      0\n",
      "1879    0\n",
      "6852    1\n",
      "2673    0\n",
      "Name: target, dtype: int64\n",
      "\n",
      "\n",
      "\n",
      "2644            new weapon cause unimaginable destruction\n",
      "2227    famping things gishwhes got soaked deluge goin...\n",
      "5448    dt georgegalloway rt gallowaymayor ûïthe col ...\n",
      "132     aftershock school kick great want thank making...\n",
      "6845    response trauma children addicts develop defen...\n",
      "Name: text, dtype: object\n",
      "(2513,)\n",
      "\n",
      "\n",
      "\n",
      "2644    1\n",
      "2227    0\n",
      "5448    1\n",
      "132     0\n",
      "6845    0\n",
      "Name: target, dtype: int64\n"
     ]
    }
   ],
   "source": [
    "print(X_train.head())\n",
    "print(X_train.shape)\n",
    "print('\\n\\n')\n",
    "\n",
    "print(y_train.head())\n",
    "\n",
    "print('\\n\\n')\n",
    "\n",
    "print(X_val.head())\n",
    "print(X_val.shape)\n",
    "\n",
    "print('\\n\\n')\n",
    "\n",
    "print(y_val.head())"
   ]
  },
  {
   "cell_type": "code",
   "execution_count": 15,
   "metadata": {},
   "outputs": [],
   "source": [
    "from keras.preprocessing.text import Tokenizer"
   ]
  },
  {
   "cell_type": "code",
   "execution_count": 16,
   "metadata": {},
   "outputs": [],
   "source": [
    "max_words = 20000\n",
    "\n",
    "tokenizer = Tokenizer(num_words=max_words)\n",
    "tokenizer.fit_on_texts(X_train)\n",
    "X_train_seq = tokenizer.texts_to_sequences(X_train)\n",
    "X_val_seq = tokenizer.texts_to_sequences(X_val)"
   ]
  },
  {
   "cell_type": "code",
   "execution_count": 17,
   "metadata": {},
   "outputs": [
    {
     "name": "stdout",
     "output_type": "stream",
     "text": [
      "[128, 4747, 4748, 503]\n"
     ]
    },
    {
     "data": {
      "text/plain": [
       "13112"
      ]
     },
     "execution_count": 17,
     "metadata": {},
     "output_type": "execute_result"
    }
   ],
   "source": [
    "word2idx = tokenizer.word_index\n",
    "\n",
    "print(X_train_seq[0])\n",
    "v= len(word2idx)\n",
    "v\n",
    "#print(X_val_seq)"
   ]
  },
  {
   "cell_type": "code",
   "execution_count": 29,
   "metadata": {},
   "outputs": [],
   "source": [
    "#standardize input length by padding and trucating\n",
    "\n",
    "X_train_data = pad_sequences(X_train_seq,padding='post')\n",
    "\n",
    "T = X_train_data.shape[1]\n",
    "\n",
    "X_val_data= pad_sequences(X_val_seq,maxlen=T,padding='post')"
   ]
  },
  {
   "cell_type": "code",
   "execution_count": 30,
   "metadata": {},
   "outputs": [
    {
     "data": {
      "text/plain": [
       "21"
      ]
     },
     "execution_count": 30,
     "metadata": {},
     "output_type": "execute_result"
    }
   ],
   "source": [
    "T"
   ]
  },
  {
   "cell_type": "code",
   "execution_count": 31,
   "metadata": {},
   "outputs": [
    {
     "name": "stdout",
     "output_type": "stream",
     "text": [
      "(2513, 21)\n"
     ]
    }
   ],
   "source": [
    "print(X_val_data.shape)"
   ]
  },
  {
   "cell_type": "code",
   "execution_count": 32,
   "metadata": {},
   "outputs": [],
   "source": [
    "\n",
    "D = 20 #embedding dimensionality \n",
    "#M=15  #Hidden state dimensionality\n",
    "\n",
    "\n",
    "i = Input(shape=(T,))\n",
    "x = Embedding(v+1,D)(i)\n",
    "x = Conv1D(32,3,activation='relu')(x)\n",
    "x = MaxPooling1D()(x)\n",
    "x = Conv1D(64,3,activation='relu')(x)\n",
    "x = MaxPooling1D()(x)\n",
    "x = Conv1D(128,3,activation='relu')(x)\n",
    "x = GlobalMaxPooling1D()(x)\n",
    "x = Dense(1,activation = 'sigmoid')(x)\n",
    "\n",
    "model = Model(i,x)\n",
    "\n"
   ]
  },
  {
   "cell_type": "code",
   "execution_count": 33,
   "metadata": {},
   "outputs": [
    {
     "name": "stdout",
     "output_type": "stream",
     "text": [
      "Model: \"model_2\"\n",
      "_________________________________________________________________\n",
      "Layer (type)                 Output Shape              Param #   \n",
      "=================================================================\n",
      "input_4 (InputLayer)         (None, 21)                0         \n",
      "_________________________________________________________________\n",
      "embedding_4 (Embedding)      (None, 21, 20)            262260    \n",
      "_________________________________________________________________\n",
      "conv1d_7 (Conv1D)            (None, 19, 32)            1952      \n",
      "_________________________________________________________________\n",
      "max_pooling1d_5 (MaxPooling1 (None, 9, 32)             0         \n",
      "_________________________________________________________________\n",
      "conv1d_8 (Conv1D)            (None, 7, 64)             6208      \n",
      "_________________________________________________________________\n",
      "max_pooling1d_6 (MaxPooling1 (None, 3, 64)             0         \n",
      "_________________________________________________________________\n",
      "conv1d_9 (Conv1D)            (None, 1, 128)            24704     \n",
      "_________________________________________________________________\n",
      "global_max_pooling1d_2 (Glob (None, 128)               0         \n",
      "_________________________________________________________________\n",
      "dense_2 (Dense)              (None, 1)                 129       \n",
      "=================================================================\n",
      "Total params: 295,253\n",
      "Trainable params: 295,253\n",
      "Non-trainable params: 0\n",
      "_________________________________________________________________\n"
     ]
    }
   ],
   "source": [
    "model.summary()"
   ]
  },
  {
   "cell_type": "code",
   "execution_count": 34,
   "metadata": {},
   "outputs": [],
   "source": [
    "model.compile(loss = 'binary_crossentropy',optimizer='adam',metrics=['accuracy'])"
   ]
  },
  {
   "cell_type": "code",
   "execution_count": 35,
   "metadata": {},
   "outputs": [],
   "source": [
    "output_dir = 'model_output/dense'\n",
    "\n",
    "modelcheckpoint = ModelCheckpoint(filepath=output_dir+\"/weights.{epoch:02d}.hdf5\")\n",
    "if not os.path.exists(output_dir):\n",
    "    os.makedirs(output_dir)"
   ]
  },
  {
   "cell_type": "code",
   "execution_count": 36,
   "metadata": {},
   "outputs": [
    {
     "name": "stderr",
     "output_type": "stream",
     "text": [
      "C:\\Users\\cbatl\\Anaconda3\\lib\\site-packages\\tensorflow_core\\python\\framework\\indexed_slices.py:424: UserWarning: Converting sparse IndexedSlices to a dense Tensor of unknown shape. This may consume a large amount of memory.\n",
      "  \"Converting sparse IndexedSlices to a dense Tensor of unknown shape. \"\n"
     ]
    },
    {
     "name": "stdout",
     "output_type": "stream",
     "text": [
      "Train on 5100 samples, validate on 2513 samples\n",
      "Epoch 1/10\n",
      "5100/5100 [==============================] - ETA: 3:05 - loss: 0.6938 - accuracy: 0.37 - ETA: 31s - loss: 0.6922 - accuracy: 0.5312 - ETA: 17s - loss: 0.6929 - accuracy: 0.517 - ETA: 11s - loss: 0.6918 - accuracy: 0.527 - ETA: 8s - loss: 0.6894 - accuracy: 0.542 - ETA: 7s - loss: 0.6872 - accuracy: 0.55 - ETA: 5s - loss: 0.6826 - accuracy: 0.56 - ETA: 5s - loss: 0.6831 - accuracy: 0.56 - ETA: 4s - loss: 0.6812 - accuracy: 0.56 - ETA: 3s - loss: 0.6817 - accuracy: 0.56 - ETA: 3s - loss: 0.6821 - accuracy: 0.56 - ETA: 3s - loss: 0.6815 - accuracy: 0.55 - ETA: 2s - loss: 0.6809 - accuracy: 0.56 - ETA: 2s - loss: 0.6793 - accuracy: 0.56 - ETA: 2s - loss: 0.6769 - accuracy: 0.57 - ETA: 2s - loss: 0.6744 - accuracy: 0.57 - ETA: 1s - loss: 0.6727 - accuracy: 0.58 - ETA: 1s - loss: 0.6709 - accuracy: 0.59 - ETA: 1s - loss: 0.6664 - accuracy: 0.60 - ETA: 1s - loss: 0.6646 - accuracy: 0.60 - ETA: 1s - loss: 0.6615 - accuracy: 0.60 - ETA: 0s - loss: 0.6578 - accuracy: 0.61 - ETA: 0s - loss: 0.6520 - accuracy: 0.61 - ETA: 0s - loss: 0.6486 - accuracy: 0.62 - ETA: 0s - loss: 0.6453 - accuracy: 0.62 - ETA: 0s - loss: 0.6377 - accuracy: 0.63 - ETA: 0s - loss: 0.6312 - accuracy: 0.63 - ETA: 0s - loss: 0.6266 - accuracy: 0.64 - ETA: 0s - loss: 0.6207 - accuracy: 0.64 - ETA: 0s - loss: 0.6185 - accuracy: 0.64 - 3s 638us/step - loss: 0.6156 - accuracy: 0.6524 - val_loss: 0.4720 - val_accuracy: 0.7799\n",
      "Epoch 2/10\n",
      "5100/5100 [==============================] - ETA: 1s - loss: 0.2811 - accuracy: 0.90 - ETA: 1s - loss: 0.3335 - accuracy: 0.88 - ETA: 1s - loss: 0.3321 - accuracy: 0.87 - ETA: 1s - loss: 0.3202 - accuracy: 0.87 - ETA: 1s - loss: 0.3213 - accuracy: 0.87 - ETA: 1s - loss: 0.3242 - accuracy: 0.87 - ETA: 1s - loss: 0.3271 - accuracy: 0.86 - ETA: 1s - loss: 0.3232 - accuracy: 0.86 - ETA: 1s - loss: 0.3146 - accuracy: 0.86 - ETA: 1s - loss: 0.3107 - accuracy: 0.87 - ETA: 1s - loss: 0.3050 - accuracy: 0.87 - ETA: 1s - loss: 0.3133 - accuracy: 0.87 - ETA: 1s - loss: 0.3135 - accuracy: 0.87 - ETA: 1s - loss: 0.3071 - accuracy: 0.87 - ETA: 0s - loss: 0.3110 - accuracy: 0.87 - ETA: 0s - loss: 0.3116 - accuracy: 0.87 - ETA: 0s - loss: 0.3103 - accuracy: 0.87 - ETA: 0s - loss: 0.3114 - accuracy: 0.87 - ETA: 0s - loss: 0.3134 - accuracy: 0.87 - ETA: 0s - loss: 0.3125 - accuracy: 0.87 - ETA: 0s - loss: 0.3128 - accuracy: 0.87 - ETA: 0s - loss: 0.3132 - accuracy: 0.87 - ETA: 0s - loss: 0.3151 - accuracy: 0.87 - ETA: 0s - loss: 0.3156 - accuracy: 0.87 - ETA: 0s - loss: 0.3139 - accuracy: 0.87 - ETA: 0s - loss: 0.3129 - accuracy: 0.87 - ETA: 0s - loss: 0.3105 - accuracy: 0.87 - ETA: 0s - loss: 0.3110 - accuracy: 0.87 - ETA: 0s - loss: 0.3139 - accuracy: 0.87 - ETA: 0s - loss: 0.3161 - accuracy: 0.87 - ETA: 0s - loss: 0.3162 - accuracy: 0.87 - ETA: 0s - loss: 0.3156 - accuracy: 0.87 - ETA: 0s - loss: 0.3157 - accuracy: 0.87 - 2s 404us/step - loss: 0.3155 - accuracy: 0.8761 - val_loss: 0.4842 - val_accuracy: 0.7855\n",
      "Epoch 3/10\n",
      "5100/5100 [==============================] - ETA: 1s - loss: 0.1219 - accuracy: 0.96 - ETA: 1s - loss: 0.1255 - accuracy: 0.96 - ETA: 1s - loss: 0.1086 - accuracy: 0.97 - ETA: 1s - loss: 0.1154 - accuracy: 0.96 - ETA: 1s - loss: 0.1215 - accuracy: 0.96 - ETA: 1s - loss: 0.1250 - accuracy: 0.95 - ETA: 1s - loss: 0.1201 - accuracy: 0.96 - ETA: 1s - loss: 0.1186 - accuracy: 0.96 - ETA: 1s - loss: 0.1194 - accuracy: 0.96 - ETA: 1s - loss: 0.1187 - accuracy: 0.96 - ETA: 1s - loss: 0.1259 - accuracy: 0.95 - ETA: 1s - loss: 0.1230 - accuracy: 0.95 - ETA: 1s - loss: 0.1234 - accuracy: 0.95 - ETA: 1s - loss: 0.1247 - accuracy: 0.95 - ETA: 0s - loss: 0.1302 - accuracy: 0.95 - ETA: 0s - loss: 0.1255 - accuracy: 0.95 - ETA: 0s - loss: 0.1244 - accuracy: 0.95 - ETA: 0s - loss: 0.1261 - accuracy: 0.95 - ETA: 0s - loss: 0.1264 - accuracy: 0.95 - ETA: 0s - loss: 0.1257 - accuracy: 0.95 - ETA: 0s - loss: 0.1240 - accuracy: 0.95 - ETA: 0s - loss: 0.1292 - accuracy: 0.95 - ETA: 0s - loss: 0.1268 - accuracy: 0.95 - ETA: 0s - loss: 0.1268 - accuracy: 0.95 - ETA: 0s - loss: 0.1255 - accuracy: 0.95 - ETA: 0s - loss: 0.1287 - accuracy: 0.95 - ETA: 0s - loss: 0.1306 - accuracy: 0.95 - ETA: 0s - loss: 0.1317 - accuracy: 0.95 - ETA: 0s - loss: 0.1328 - accuracy: 0.95 - ETA: 0s - loss: 0.1319 - accuracy: 0.95 - ETA: 0s - loss: 0.1314 - accuracy: 0.95 - ETA: 0s - loss: 0.1325 - accuracy: 0.95 - 2s 394us/step - loss: 0.1328 - accuracy: 0.9557 - val_loss: 0.5793 - val_accuracy: 0.7776\n",
      "Epoch 4/10\n",
      "5100/5100 [==============================] - ETA: 0s - loss: 0.0431 - accuracy: 1.00 - ETA: 1s - loss: 0.0840 - accuracy: 0.97 - ETA: 1s - loss: 0.0686 - accuracy: 0.98 - ETA: 1s - loss: 0.0687 - accuracy: 0.98 - ETA: 1s - loss: 0.0712 - accuracy: 0.97 - ETA: 1s - loss: 0.0732 - accuracy: 0.97 - ETA: 1s - loss: 0.0721 - accuracy: 0.97 - ETA: 1s - loss: 0.0671 - accuracy: 0.98 - ETA: 1s - loss: 0.0712 - accuracy: 0.97 - ETA: 1s - loss: 0.0736 - accuracy: 0.97 - ETA: 1s - loss: 0.0715 - accuracy: 0.97 - ETA: 1s - loss: 0.0714 - accuracy: 0.97 - ETA: 1s - loss: 0.0784 - accuracy: 0.97 - ETA: 0s - loss: 0.0799 - accuracy: 0.97 - ETA: 0s - loss: 0.0787 - accuracy: 0.97 - ETA: 0s - loss: 0.0763 - accuracy: 0.97 - ETA: 0s - loss: 0.0754 - accuracy: 0.97 - ETA: 0s - loss: 0.0736 - accuracy: 0.97 - ETA: 0s - loss: 0.0743 - accuracy: 0.97 - ETA: 0s - loss: 0.0721 - accuracy: 0.97 - ETA: 0s - loss: 0.0707 - accuracy: 0.97 - ETA: 0s - loss: 0.0719 - accuracy: 0.97 - ETA: 0s - loss: 0.0728 - accuracy: 0.97 - ETA: 0s - loss: 0.0738 - accuracy: 0.97 - ETA: 0s - loss: 0.0775 - accuracy: 0.97 - ETA: 0s - loss: 0.0761 - accuracy: 0.97 - ETA: 0s - loss: 0.0788 - accuracy: 0.97 - ETA: 0s - loss: 0.0807 - accuracy: 0.97 - ETA: 0s - loss: 0.0817 - accuracy: 0.97 - ETA: 0s - loss: 0.0812 - accuracy: 0.97 - ETA: 0s - loss: 0.0813 - accuracy: 0.97 - ETA: 0s - loss: 0.0820 - accuracy: 0.97 - 2s 395us/step - loss: 0.0814 - accuracy: 0.9743 - val_loss: 0.6605 - val_accuracy: 0.7684\n",
      "Epoch 5/10\n",
      "5100/5100 [==============================] - ETA: 1s - loss: 0.0428 - accuracy: 1.00 - ETA: 1s - loss: 0.0405 - accuracy: 0.98 - ETA: 1s - loss: 0.0414 - accuracy: 0.98 - ETA: 1s - loss: 0.0389 - accuracy: 0.98 - ETA: 1s - loss: 0.0387 - accuracy: 0.98 - ETA: 1s - loss: 0.0409 - accuracy: 0.98 - ETA: 1s - loss: 0.0485 - accuracy: 0.98 - ETA: 1s - loss: 0.0452 - accuracy: 0.98 - ETA: 1s - loss: 0.0430 - accuracy: 0.98 - ETA: 1s - loss: 0.0410 - accuracy: 0.98 - ETA: 1s - loss: 0.0401 - accuracy: 0.98 - ETA: 1s - loss: 0.0415 - accuracy: 0.98 - ETA: 1s - loss: 0.0461 - accuracy: 0.98 - ETA: 0s - loss: 0.0528 - accuracy: 0.98 - ETA: 0s - loss: 0.0545 - accuracy: 0.98 - ETA: 0s - loss: 0.0540 - accuracy: 0.98 - ETA: 0s - loss: 0.0549 - accuracy: 0.98 - ETA: 0s - loss: 0.0550 - accuracy: 0.98 - ETA: 0s - loss: 0.0574 - accuracy: 0.98 - ETA: 0s - loss: 0.0553 - accuracy: 0.98 - ETA: 0s - loss: 0.0566 - accuracy: 0.98 - ETA: 0s - loss: 0.0572 - accuracy: 0.98 - ETA: 0s - loss: 0.0577 - accuracy: 0.98 - ETA: 0s - loss: 0.0583 - accuracy: 0.98 - ETA: 0s - loss: 0.0579 - accuracy: 0.98 - ETA: 0s - loss: 0.0577 - accuracy: 0.98 - ETA: 0s - loss: 0.0585 - accuracy: 0.98 - ETA: 0s - loss: 0.0577 - accuracy: 0.98 - ETA: 0s - loss: 0.0574 - accuracy: 0.98 - ETA: 0s - loss: 0.0581 - accuracy: 0.98 - ETA: 0s - loss: 0.0593 - accuracy: 0.98 - 2s 380us/step - loss: 0.0591 - accuracy: 0.9800 - val_loss: 0.7131 - val_accuracy: 0.7692\n",
      "Epoch 6/10\n"
     ]
    },
    {
     "name": "stdout",
     "output_type": "stream",
     "text": [
      "5100/5100 [==============================] - ETA: 1s - loss: 0.0906 - accuracy: 0.96 - ETA: 1s - loss: 0.0363 - accuracy: 0.98 - ETA: 1s - loss: 0.0302 - accuracy: 0.98 - ETA: 1s - loss: 0.0309 - accuracy: 0.98 - ETA: 1s - loss: 0.0393 - accuracy: 0.98 - ETA: 1s - loss: 0.0427 - accuracy: 0.98 - ETA: 1s - loss: 0.0444 - accuracy: 0.98 - ETA: 1s - loss: 0.0416 - accuracy: 0.98 - ETA: 1s - loss: 0.0427 - accuracy: 0.98 - ETA: 1s - loss: 0.0453 - accuracy: 0.98 - ETA: 1s - loss: 0.0440 - accuracy: 0.98 - ETA: 1s - loss: 0.0425 - accuracy: 0.98 - ETA: 0s - loss: 0.0410 - accuracy: 0.98 - ETA: 0s - loss: 0.0425 - accuracy: 0.98 - ETA: 0s - loss: 0.0412 - accuracy: 0.98 - ETA: 0s - loss: 0.0400 - accuracy: 0.98 - ETA: 0s - loss: 0.0380 - accuracy: 0.98 - ETA: 0s - loss: 0.0365 - accuracy: 0.98 - ETA: 0s - loss: 0.0380 - accuracy: 0.98 - ETA: 0s - loss: 0.0398 - accuracy: 0.98 - ETA: 0s - loss: 0.0417 - accuracy: 0.98 - ETA: 0s - loss: 0.0429 - accuracy: 0.98 - ETA: 0s - loss: 0.0424 - accuracy: 0.98 - ETA: 0s - loss: 0.0430 - accuracy: 0.98 - ETA: 0s - loss: 0.0434 - accuracy: 0.98 - ETA: 0s - loss: 0.0438 - accuracy: 0.98 - ETA: 0s - loss: 0.0446 - accuracy: 0.98 - ETA: 0s - loss: 0.0448 - accuracy: 0.98 - ETA: 0s - loss: 0.0464 - accuracy: 0.98 - ETA: 0s - loss: 0.0457 - accuracy: 0.98 - ETA: 0s - loss: 0.0480 - accuracy: 0.98 - ETA: 0s - loss: 0.0474 - accuracy: 0.98 - 2s 393us/step - loss: 0.0472 - accuracy: 0.9825 - val_loss: 0.7742 - val_accuracy: 0.7557\n",
      "Epoch 7/10\n",
      "5100/5100 [==============================] - ETA: 1s - loss: 0.0231 - accuracy: 1.00 - ETA: 1s - loss: 0.0124 - accuracy: 1.00 - ETA: 1s - loss: 0.0188 - accuracy: 0.99 - ETA: 1s - loss: 0.0270 - accuracy: 0.99 - ETA: 1s - loss: 0.0279 - accuracy: 0.98 - ETA: 1s - loss: 0.0249 - accuracy: 0.99 - ETA: 1s - loss: 0.0226 - accuracy: 0.99 - ETA: 1s - loss: 0.0218 - accuracy: 0.99 - ETA: 1s - loss: 0.0201 - accuracy: 0.99 - ETA: 1s - loss: 0.0276 - accuracy: 0.98 - ETA: 1s - loss: 0.0277 - accuracy: 0.98 - ETA: 1s - loss: 0.0388 - accuracy: 0.98 - ETA: 1s - loss: 0.0368 - accuracy: 0.98 - ETA: 1s - loss: 0.0378 - accuracy: 0.98 - ETA: 1s - loss: 0.0377 - accuracy: 0.98 - ETA: 0s - loss: 0.0392 - accuracy: 0.98 - ETA: 0s - loss: 0.0404 - accuracy: 0.98 - ETA: 0s - loss: 0.0430 - accuracy: 0.98 - ETA: 0s - loss: 0.0421 - accuracy: 0.98 - ETA: 0s - loss: 0.0426 - accuracy: 0.98 - ETA: 0s - loss: 0.0434 - accuracy: 0.98 - ETA: 0s - loss: 0.0421 - accuracy: 0.98 - ETA: 0s - loss: 0.0430 - accuracy: 0.98 - ETA: 0s - loss: 0.0453 - accuracy: 0.98 - ETA: 0s - loss: 0.0439 - accuracy: 0.98 - ETA: 0s - loss: 0.0448 - accuracy: 0.98 - ETA: 0s - loss: 0.0435 - accuracy: 0.98 - ETA: 0s - loss: 0.0429 - accuracy: 0.98 - ETA: 0s - loss: 0.0431 - accuracy: 0.98 - ETA: 0s - loss: 0.0433 - accuracy: 0.98 - ETA: 0s - loss: 0.0421 - accuracy: 0.98 - ETA: 0s - loss: 0.0430 - accuracy: 0.98 - ETA: 0s - loss: 0.0431 - accuracy: 0.98 - 2s 421us/step - loss: 0.0433 - accuracy: 0.9831 - val_loss: 0.7662 - val_accuracy: 0.7788\n",
      "Epoch 8/10\n",
      "5100/5100 [==============================] - ETA: 1s - loss: 0.0076 - accuracy: 1.00 - ETA: 1s - loss: 0.0437 - accuracy: 0.97 - ETA: 1s - loss: 0.0276 - accuracy: 0.98 - ETA: 1s - loss: 0.0279 - accuracy: 0.98 - ETA: 1s - loss: 0.0261 - accuracy: 0.98 - ETA: 1s - loss: 0.0253 - accuracy: 0.99 - ETA: 1s - loss: 0.0222 - accuracy: 0.99 - ETA: 1s - loss: 0.0246 - accuracy: 0.99 - ETA: 1s - loss: 0.0221 - accuracy: 0.99 - ETA: 1s - loss: 0.0218 - accuracy: 0.99 - ETA: 1s - loss: 0.0223 - accuracy: 0.99 - ETA: 1s - loss: 0.0250 - accuracy: 0.99 - ETA: 1s - loss: 0.0234 - accuracy: 0.99 - ETA: 1s - loss: 0.0233 - accuracy: 0.99 - ETA: 0s - loss: 0.0254 - accuracy: 0.99 - ETA: 0s - loss: 0.0251 - accuracy: 0.99 - ETA: 0s - loss: 0.0289 - accuracy: 0.98 - ETA: 0s - loss: 0.0273 - accuracy: 0.98 - ETA: 0s - loss: 0.0275 - accuracy: 0.98 - ETA: 0s - loss: 0.0296 - accuracy: 0.98 - ETA: 0s - loss: 0.0340 - accuracy: 0.98 - ETA: 0s - loss: 0.0346 - accuracy: 0.98 - ETA: 0s - loss: 0.0344 - accuracy: 0.98 - ETA: 0s - loss: 0.0350 - accuracy: 0.98 - ETA: 0s - loss: 0.0344 - accuracy: 0.98 - ETA: 0s - loss: 0.0356 - accuracy: 0.98 - ETA: 0s - loss: 0.0367 - accuracy: 0.98 - ETA: 0s - loss: 0.0371 - accuracy: 0.98 - ETA: 0s - loss: 0.0386 - accuracy: 0.98 - ETA: 0s - loss: 0.0380 - accuracy: 0.98 - ETA: 0s - loss: 0.0380 - accuracy: 0.98 - ETA: 0s - loss: 0.0385 - accuracy: 0.98 - 2s 399us/step - loss: 0.0388 - accuracy: 0.9833 - val_loss: 0.7746 - val_accuracy: 0.7752\n",
      "Epoch 9/10\n",
      "5100/5100 [==============================] - ETA: 1s - loss: 0.0033 - accuracy: 1.00 - ETA: 1s - loss: 0.0238 - accuracy: 0.98 - ETA: 1s - loss: 0.0305 - accuracy: 0.98 - ETA: 1s - loss: 0.0333 - accuracy: 0.98 - ETA: 1s - loss: 0.0324 - accuracy: 0.98 - ETA: 1s - loss: 0.0287 - accuracy: 0.98 - ETA: 1s - loss: 0.0251 - accuracy: 0.98 - ETA: 1s - loss: 0.0232 - accuracy: 0.98 - ETA: 1s - loss: 0.0242 - accuracy: 0.98 - ETA: 1s - loss: 0.0298 - accuracy: 0.98 - ETA: 1s - loss: 0.0309 - accuracy: 0.98 - ETA: 1s - loss: 0.0317 - accuracy: 0.98 - ETA: 1s - loss: 0.0310 - accuracy: 0.98 - ETA: 1s - loss: 0.0320 - accuracy: 0.98 - ETA: 0s - loss: 0.0343 - accuracy: 0.98 - ETA: 0s - loss: 0.0331 - accuracy: 0.98 - ETA: 0s - loss: 0.0318 - accuracy: 0.98 - ETA: 0s - loss: 0.0334 - accuracy: 0.98 - ETA: 0s - loss: 0.0331 - accuracy: 0.98 - ETA: 0s - loss: 0.0325 - accuracy: 0.98 - ETA: 0s - loss: 0.0330 - accuracy: 0.98 - ETA: 0s - loss: 0.0335 - accuracy: 0.98 - ETA: 0s - loss: 0.0329 - accuracy: 0.98 - ETA: 0s - loss: 0.0335 - accuracy: 0.98 - ETA: 0s - loss: 0.0333 - accuracy: 0.98 - ETA: 0s - loss: 0.0337 - accuracy: 0.98 - ETA: 0s - loss: 0.0333 - accuracy: 0.98 - ETA: 0s - loss: 0.0338 - accuracy: 0.98 - ETA: 0s - loss: 0.0333 - accuracy: 0.98 - ETA: 0s - loss: 0.0333 - accuracy: 0.98 - ETA: 0s - loss: 0.0342 - accuracy: 0.98 - ETA: 0s - loss: 0.0354 - accuracy: 0.98 - 2s 395us/step - loss: 0.0367 - accuracy: 0.9841 - val_loss: 0.7959 - val_accuracy: 0.7600\n",
      "Epoch 10/10\n",
      "5100/5100 [==============================] - ETA: 1s - loss: 0.0245 - accuracy: 1.00 - ETA: 1s - loss: 0.0169 - accuracy: 0.99 - ETA: 1s - loss: 0.0231 - accuracy: 0.98 - ETA: 1s - loss: 0.0218 - accuracy: 0.98 - ETA: 1s - loss: 0.0316 - accuracy: 0.98 - ETA: 1s - loss: 0.0352 - accuracy: 0.98 - ETA: 1s - loss: 0.0315 - accuracy: 0.98 - ETA: 1s - loss: 0.0294 - accuracy: 0.98 - ETA: 1s - loss: 0.0292 - accuracy: 0.98 - ETA: 1s - loss: 0.0274 - accuracy: 0.98 - ETA: 1s - loss: 0.0281 - accuracy: 0.98 - ETA: 1s - loss: 0.0274 - accuracy: 0.98 - ETA: 1s - loss: 0.0270 - accuracy: 0.98 - ETA: 1s - loss: 0.0265 - accuracy: 0.98 - ETA: 0s - loss: 0.0269 - accuracy: 0.98 - ETA: 0s - loss: 0.0265 - accuracy: 0.98 - ETA: 0s - loss: 0.0260 - accuracy: 0.98 - ETA: 0s - loss: 0.0264 - accuracy: 0.98 - ETA: 0s - loss: 0.0277 - accuracy: 0.98 - ETA: 0s - loss: 0.0276 - accuracy: 0.98 - ETA: 0s - loss: 0.0300 - accuracy: 0.98 - ETA: 0s - loss: 0.0297 - accuracy: 0.98 - ETA: 0s - loss: 0.0300 - accuracy: 0.98 - ETA: 0s - loss: 0.0292 - accuracy: 0.98 - ETA: 0s - loss: 0.0290 - accuracy: 0.98 - ETA: 0s - loss: 0.0294 - accuracy: 0.98 - ETA: 0s - loss: 0.0304 - accuracy: 0.98 - ETA: 0s - loss: 0.0328 - accuracy: 0.98 - ETA: 0s - loss: 0.0329 - accuracy: 0.98 - ETA: 0s - loss: 0.0334 - accuracy: 0.98 - ETA: 0s - loss: 0.0326 - accuracy: 0.98 - ETA: 0s - loss: 0.0322 - accuracy: 0.98 - 2s 400us/step - loss: 0.0331 - accuracy: 0.9857 - val_loss: 0.8261 - val_accuracy: 0.7732\n"
     ]
    }
   ],
   "source": [
    "r = model.fit(X_train_data,y_train,epochs=10,verbose=1,\n",
    "         validation_data=(X_val_data,y_val),\n",
    "         callbacks=[modelcheckpoint])"
   ]
  },
  {
   "cell_type": "code",
   "execution_count": 37,
   "metadata": {},
   "outputs": [
    {
     "data": {
      "text/plain": [
       "<matplotlib.legend.Legend at 0x2b271905dc8>"
      ]
     },
     "execution_count": 37,
     "metadata": {},
     "output_type": "execute_result"
    },
    {
     "data": {
      "image/png": "[encoded data removed]",
      "text/plain": [
       "<Figure size 432x288 with 1 Axes>"
      ]
     },
     "metadata": {
      "needs_background": "light"
     },
     "output_type": "display_data"
    }
   ],
   "source": [
    "import matplotlib.pyplot as plt\n",
    "\n",
    "plt.plot(r.history['accuracy'],label = 'Training_Accuracy')\n",
    "plt.plot(r.history['val_accuracy'],label = 'val_Accuracy')\n",
    "plt.legend()"
   ]
  },
  {
   "cell_type": "code",
   "execution_count": null,
   "metadata": {},
   "outputs": [],
   "source": [
    "model.load_weights(output_dir+\"/weights.09.hdf5\")"
   ]
  },
  {
   "cell_type": "code",
   "execution_count": null,
   "metadata": {},
   "outputs": [],
   "source": [
    "y_hat = model.predict(X_val_data)"
   ]
  },
  {
   "cell_type": "code",
   "execution_count": null,
   "metadata": {},
   "outputs": [],
   "source": [
    "float_y_hat = []\n",
    "for y in y_hat:\n",
    "    float_y_hat.append(y[0])\n"
   ]
  },
  {
   "cell_type": "code",
   "execution_count": null,
   "metadata": {},
   "outputs": [],
   "source": [
    "ydf = pd.DataFrame(list(zip(float_y_hat,y_val)),columns=['y_hat','y_val'])"
   ]
  },
  {
   "cell_type": "code",
   "execution_count": null,
   "metadata": {},
   "outputs": [],
   "source": [
    "ydf"
   ]
  },
  {
   "cell_type": "code",
   "execution_count": null,
   "metadata": {},
   "outputs": [],
   "source": []
  }
 ],
 "metadata": {
  "kernelspec": {
   "display_name": "Python 3",
   "language": "python",
   "name": "python3"
  },
  "language_info": {
   "codemirror_mode": {
    "name": "ipython",
    "version": 3
   },
   "file_extension": ".py",
   "mimetype": "text/x-python",
   "name": "python",
   "nbconvert_exporter": "python",
   "pygments_lexer": "ipython3",
   "version": "3.7.4"
  }
 },
 "nbformat": 4,
 "nbformat_minor": 2
}
