{
 "cells": [
  {
   "cell_type": "code",
   "execution_count": 1,
   "metadata": {},
   "outputs": [],
   "source": [
    "import pandas as pd\n",
    "import numpy as np\n",
    "import re\n",
    "import spacy\n",
    "import seaborn as sns\n",
    "import nltk\n",
    "import string\n",
    "import matplotlib.pyplot as plt\n",
    "from sklearn.model_selection import train_test_split\n",
    "import os"
   ]
  },
  {
   "cell_type": "code",
   "execution_count": 2,
   "metadata": {},
   "outputs": [
    {
     "name": "stderr",
     "output_type": "stream",
     "text": [
      "Using TensorFlow backend.\n"
     ]
    }
   ],
   "source": [
    "import keras\n",
    "from keras.preprocessing.sequence import pad_sequences\n",
    "from keras.models import Sequential\n",
    "from keras.layers import Dense,Flatten,Dropout,Input\n",
    "from keras.layers import Embedding,LSTM,GlobalMaxPooling1D\n",
    "from keras.callbacks import ModelCheckpoint\n",
    "from keras.models import Model\n",
    "\n"
   ]
  },
  {
   "cell_type": "code",
   "execution_count": 3,
   "metadata": {},
   "outputs": [],
   "source": [
    "twit = pd.read_csv('train.csv')"
   ]
  },
  {
   "cell_type": "code",
   "execution_count": 4,
   "metadata": {},
   "outputs": [
    {
     "data": {
      "text/html": [
       "<div>\n",
       "<style scoped>\n",
       "    .dataframe tbody tr th:only-of-type {\n",
       "        vertical-align: middle;\n",
       "    }\n",
       "\n",
       "    .dataframe tbody tr th {\n",
       "        vertical-align: top;\n",
       "    }\n",
       "\n",
       "    .dataframe thead th {\n",
       "        text-align: right;\n",
       "    }\n",
       "</style>\n",
       "<table border=\"1\" class=\"dataframe\">\n",
       "  <thead>\n",
       "    <tr style=\"text-align: right;\">\n",
       "      <th></th>\n",
       "      <th>id</th>\n",
       "      <th>keyword</th>\n",
       "      <th>location</th>\n",
       "      <th>text</th>\n",
       "      <th>target</th>\n",
       "    </tr>\n",
       "  </thead>\n",
       "  <tbody>\n",
       "    <tr>\n",
       "      <td>0</td>\n",
       "      <td>1</td>\n",
       "      <td>NaN</td>\n",
       "      <td>NaN</td>\n",
       "      <td>Our Deeds are the Reason of this #earthquake M...</td>\n",
       "      <td>1</td>\n",
       "    </tr>\n",
       "    <tr>\n",
       "      <td>1</td>\n",
       "      <td>4</td>\n",
       "      <td>NaN</td>\n",
       "      <td>NaN</td>\n",
       "      <td>Forest fire near La Ronge Sask. Canada</td>\n",
       "      <td>1</td>\n",
       "    </tr>\n",
       "    <tr>\n",
       "      <td>2</td>\n",
       "      <td>5</td>\n",
       "      <td>NaN</td>\n",
       "      <td>NaN</td>\n",
       "      <td>All residents asked to 'shelter in place' are ...</td>\n",
       "      <td>1</td>\n",
       "    </tr>\n",
       "    <tr>\n",
       "      <td>3</td>\n",
       "      <td>6</td>\n",
       "      <td>NaN</td>\n",
       "      <td>NaN</td>\n",
       "      <td>13,000 people receive #wildfires evacuation or...</td>\n",
       "      <td>1</td>\n",
       "    </tr>\n",
       "    <tr>\n",
       "      <td>4</td>\n",
       "      <td>7</td>\n",
       "      <td>NaN</td>\n",
       "      <td>NaN</td>\n",
       "      <td>Just got sent this photo from Ruby #Alaska as ...</td>\n",
       "      <td>1</td>\n",
       "    </tr>\n",
       "  </tbody>\n",
       "</table>\n",
       "</div>"
      ],
      "text/plain": [
       "   id keyword location                                               text  \\\n",
       "0   1     NaN      NaN  Our Deeds are the Reason of this #earthquake M...   \n",
       "1   4     NaN      NaN             Forest fire near La Ronge Sask. Canada   \n",
       "2   5     NaN      NaN  All residents asked to 'shelter in place' are ...   \n",
       "3   6     NaN      NaN  13,000 people receive #wildfires evacuation or...   \n",
       "4   7     NaN      NaN  Just got sent this photo from Ruby #Alaska as ...   \n",
       "\n",
       "   target  \n",
       "0       1  \n",
       "1       1  \n",
       "2       1  \n",
       "3       1  \n",
       "4       1  "
      ]
     },
     "execution_count": 4,
     "metadata": {},
     "output_type": "execute_result"
    }
   ],
   "source": [
    "twit.head()"
   ]
  },
  {
   "cell_type": "code",
   "execution_count": 5,
   "metadata": {},
   "outputs": [],
   "source": [
    "twit_df = twit.drop(columns = ['id','keyword','location'])"
   ]
  },
  {
   "cell_type": "code",
   "execution_count": 6,
   "metadata": {},
   "outputs": [
    {
     "data": {
      "text/html": [
       "<div>\n",
       "<style scoped>\n",
       "    .dataframe tbody tr th:only-of-type {\n",
       "        vertical-align: middle;\n",
       "    }\n",
       "\n",
       "    .dataframe tbody tr th {\n",
       "        vertical-align: top;\n",
       "    }\n",
       "\n",
       "    .dataframe thead th {\n",
       "        text-align: right;\n",
       "    }\n",
       "</style>\n",
       "<table border=\"1\" class=\"dataframe\">\n",
       "  <thead>\n",
       "    <tr style=\"text-align: right;\">\n",
       "      <th></th>\n",
       "      <th>text</th>\n",
       "      <th>target</th>\n",
       "    </tr>\n",
       "  </thead>\n",
       "  <tbody>\n",
       "    <tr>\n",
       "      <td>0</td>\n",
       "      <td>Our Deeds are the Reason of this #earthquake M...</td>\n",
       "      <td>1</td>\n",
       "    </tr>\n",
       "    <tr>\n",
       "      <td>1</td>\n",
       "      <td>Forest fire near La Ronge Sask. Canada</td>\n",
       "      <td>1</td>\n",
       "    </tr>\n",
       "    <tr>\n",
       "      <td>2</td>\n",
       "      <td>All residents asked to 'shelter in place' are ...</td>\n",
       "      <td>1</td>\n",
       "    </tr>\n",
       "    <tr>\n",
       "      <td>3</td>\n",
       "      <td>13,000 people receive #wildfires evacuation or...</td>\n",
       "      <td>1</td>\n",
       "    </tr>\n",
       "    <tr>\n",
       "      <td>4</td>\n",
       "      <td>Just got sent this photo from Ruby #Alaska as ...</td>\n",
       "      <td>1</td>\n",
       "    </tr>\n",
       "  </tbody>\n",
       "</table>\n",
       "</div>"
      ],
      "text/plain": [
       "                                                text  target\n",
       "0  Our Deeds are the Reason of this #earthquake M...       1\n",
       "1             Forest fire near La Ronge Sask. Canada       1\n",
       "2  All residents asked to 'shelter in place' are ...       1\n",
       "3  13,000 people receive #wildfires evacuation or...       1\n",
       "4  Just got sent this photo from Ruby #Alaska as ...       1"
      ]
     },
     "execution_count": 6,
     "metadata": {},
     "output_type": "execute_result"
    }
   ],
   "source": [
    "twit_df.head()"
   ]
  },
  {
   "cell_type": "code",
   "execution_count": 7,
   "metadata": {},
   "outputs": [
    {
     "data": {
      "text/plain": [
       "0    4342\n",
       "1    3271\n",
       "Name: target, dtype: int64"
      ]
     },
     "execution_count": 7,
     "metadata": {},
     "output_type": "execute_result"
    }
   ],
   "source": [
    "pd.value_counts(twit_df['target'])"
   ]
  },
  {
   "cell_type": "code",
   "execution_count": 8,
   "metadata": {},
   "outputs": [],
   "source": [
    "nlp = spacy.load('en_core_web_sm')"
   ]
  },
  {
   "cell_type": "code",
   "execution_count": 9,
   "metadata": {},
   "outputs": [
    {
     "name": "stdout",
     "output_type": "stream",
     "text": [
      "326\n"
     ]
    }
   ],
   "source": [
    "print(len(nlp.Defaults.stop_words))\n",
    "stopwords = (nlp.Defaults.stop_words)"
   ]
  },
  {
   "cell_type": "code",
   "execution_count": 10,
   "metadata": {},
   "outputs": [],
   "source": [
    "def remove_URL(text):\n",
    "    url = re.compile(r'https?://\\S+|www\\.\\S\\s+')\n",
    "    return url.sub(r'',text)\n",
    "\n",
    "def remove_emoji(text):\n",
    "    emoji_pattern = re.compile(\"[\"\n",
    "        u\"\\U0001F600-\\U0001F64F\"  # emoticons\n",
    "        u\"\\U0001F300-\\U0001F5FF\"  # symbols & pictographs\n",
    "        u\"\\U0001F680-\\U0001F6FF\"  # transport & map symbols\n",
    "        u\"\\U0001F1E0-\\U0001F1FF\"  # flags (iOS)\n",
    "                           \"]+\", flags=re.UNICODE)\n",
    "    return emoji_pattern.sub(r'', text) # no emoji\n",
    "\n",
    "def remove_punct(text):\n",
    "    text  = \"\".join([char for char in text if char not in string.punctuation])\n",
    "    text = re.sub('[0-9]+', '', text)\n",
    "    return text\n",
    "    \n",
    "def stop_words(text):\n",
    "    text = \" \".join(word for word in text.split() if word not in stopwords)\n",
    "    return text"
   ]
  },
  {
   "cell_type": "code",
   "execution_count": 11,
   "metadata": {},
   "outputs": [
    {
     "data": {
      "text/plain": [
       "0    our deeds are the reason of this earthquake ma...\n",
       "1                forest fire near la ronge sask canada\n",
       "2    all residents asked to shelter in place are be...\n",
       "3     people receive wildfires evacuation orders in...\n",
       "4    just got sent this photo from ruby alaska as s...\n",
       "Name: text, dtype: object"
      ]
     },
     "execution_count": 11,
     "metadata": {},
     "output_type": "execute_result"
    }
   ],
   "source": [
    "twit_df['text'] = twit_df['text'].apply(remove_URL)\n",
    "twit_df['text'] = twit_df['text'].apply(remove_emoji)\n",
    "twit_df['text'] = twit_df['text'].map(lambda x: remove_punct(x))\n",
    "twit_df['text'] = twit_df['text'].map(lambda x: x.lower())\n",
    "#twit_df['text'] = twit_df['text'].apply(stop_words)\n",
    "\n",
    "twit_df['text'][0:5]"
   ]
  },
  {
   "cell_type": "code",
   "execution_count": 12,
   "metadata": {},
   "outputs": [],
   "source": [
    "X = twit_df['text']\n",
    "y = twit_df['target']"
   ]
  },
  {
   "cell_type": "code",
   "execution_count": 13,
   "metadata": {},
   "outputs": [],
   "source": [
    "X_train, X_val, y_train, y_val = train_test_split(X,y,test_size = 0.33,random_state = 42)"
   ]
  },
  {
   "cell_type": "code",
   "execution_count": 14,
   "metadata": {},
   "outputs": [
    {
     "name": "stdout",
     "output_type": "stream",
     "text": [
      "5836    photo postapocalypticflimflam prodding around ...\n",
      "30                                                the end\n",
      "1879                man crush everyday   cristianinspire \n",
      "6852    ptsdchat yes i feel the root of that is shame ...\n",
      "2673    autoames everyone hoped we would join isis and...\n",
      "Name: text, dtype: object\n",
      "(5100,)\n",
      "\n",
      "\n",
      "\n",
      "5836    0\n",
      "30      0\n",
      "1879    0\n",
      "6852    1\n",
      "2673    0\n",
      "Name: target, dtype: int64\n",
      "\n",
      "\n",
      "\n",
      "2644    so you have a new weapon that can cause unimag...\n",
      "2227    the famping things i do for gishwhes just got ...\n",
      "5448    dt georgegalloway rt gallowaymayor ûïthe col ...\n",
      "132     aftershock back to school kick off was great i...\n",
      "6845    in response to trauma children of addicts deve...\n",
      "Name: text, dtype: object\n",
      "(2513,)\n",
      "\n",
      "\n",
      "\n",
      "2644    1\n",
      "2227    0\n",
      "5448    1\n",
      "132     0\n",
      "6845    0\n",
      "Name: target, dtype: int64\n"
     ]
    }
   ],
   "source": [
    "print(X_train.head())\n",
    "print(X_train.shape)\n",
    "print('\\n\\n')\n",
    "\n",
    "print(y_train.head())\n",
    "\n",
    "print('\\n\\n')\n",
    "\n",
    "print(X_val.head())\n",
    "print(X_val.shape)\n",
    "\n",
    "print('\\n\\n')\n",
    "\n",
    "print(y_val.head())"
   ]
  },
  {
   "cell_type": "code",
   "execution_count": 15,
   "metadata": {},
   "outputs": [],
   "source": [
    "from keras.preprocessing.text import Tokenizer"
   ]
  },
  {
   "cell_type": "code",
   "execution_count": 16,
   "metadata": {},
   "outputs": [],
   "source": [
    "max_words = 20000\n",
    "\n",
    "tokenizer = Tokenizer(num_words=max_words)\n",
    "tokenizer.fit_on_texts(X_train)\n",
    "X_train_seq = tokenizer.texts_to_sequences(X_train)\n",
    "X_val_seq = tokenizer.texts_to_sequences(X_val)"
   ]
  },
  {
   "cell_type": "code",
   "execution_count": 17,
   "metadata": {},
   "outputs": [
    {
     "name": "stdout",
     "output_type": "stream",
     "text": [
      "[249, 4991, 4992, 332, 1, 657]\n"
     ]
    },
    {
     "data": {
      "text/plain": [
       "13375"
      ]
     },
     "execution_count": 17,
     "metadata": {},
     "output_type": "execute_result"
    }
   ],
   "source": [
    "word2idx = tokenizer.word_index\n",
    "\n",
    "print(X_train_seq[0])\n",
    "v= len(word2idx)\n",
    "v\n",
    "#print(X_val_seq)"
   ]
  },
  {
   "cell_type": "code",
   "execution_count": 18,
   "metadata": {},
   "outputs": [],
   "source": [
    "#standardize input length by padding and trucating\n",
    "\n",
    "X_train_data = pad_sequences(X_train_seq)\n",
    "\n",
    "T = X_train_data.shape[1]\n",
    "\n",
    "X_val_data= pad_sequences(X_val_seq,maxlen=T)"
   ]
  },
  {
   "cell_type": "code",
   "execution_count": 19,
   "metadata": {},
   "outputs": [
    {
     "data": {
      "text/plain": [
       "31"
      ]
     },
     "execution_count": 19,
     "metadata": {},
     "output_type": "execute_result"
    }
   ],
   "source": [
    "T"
   ]
  },
  {
   "cell_type": "code",
   "execution_count": 20,
   "metadata": {},
   "outputs": [
    {
     "name": "stdout",
     "output_type": "stream",
     "text": [
      "(2513, 31)\n"
     ]
    }
   ],
   "source": [
    "print(X_val_data.shape)"
   ]
  },
  {
   "cell_type": "code",
   "execution_count": 21,
   "metadata": {},
   "outputs": [],
   "source": [
    "\n",
    "D = 20\n",
    "M=15\n",
    "\n",
    "\n",
    "i = Input(shape=(T,))\n",
    "x = Embedding(v+1,D)(i)\n",
    "x = LSTM(M,return_sequences=True)(x)\n",
    "x = GlobalMaxPooling1D()(x)\n",
    "x = Dense(1,activation = 'sigmoid')(x)\n",
    "\n",
    "model = Model(i,x)\n",
    "\n"
   ]
  },
  {
   "cell_type": "code",
   "execution_count": 22,
   "metadata": {},
   "outputs": [
    {
     "name": "stdout",
     "output_type": "stream",
     "text": [
      "Model: \"model_1\"\n",
      "_________________________________________________________________\n",
      "Layer (type)                 Output Shape              Param #   \n",
      "=================================================================\n",
      "input_1 (InputLayer)         (None, 31)                0         \n",
      "_________________________________________________________________\n",
      "embedding_1 (Embedding)      (None, 31, 20)            267520    \n",
      "_________________________________________________________________\n",
      "lstm_1 (LSTM)                (None, 31, 15)            2160      \n",
      "_________________________________________________________________\n",
      "global_max_pooling1d_1 (Glob (None, 15)                0         \n",
      "_________________________________________________________________\n",
      "dense_1 (Dense)              (None, 1)                 16        \n",
      "=================================================================\n",
      "Total params: 269,696\n",
      "Trainable params: 269,696\n",
      "Non-trainable params: 0\n",
      "_________________________________________________________________\n"
     ]
    }
   ],
   "source": [
    "model.summary()"
   ]
  },
  {
   "cell_type": "code",
   "execution_count": 23,
   "metadata": {},
   "outputs": [],
   "source": [
    "model.compile(loss = 'binary_crossentropy',optimizer='adam',metrics=['accuracy'])"
   ]
  },
  {
   "cell_type": "code",
   "execution_count": 24,
   "metadata": {},
   "outputs": [],
   "source": [
    "output_dir = 'model_output/dense'\n",
    "\n",
    "modelcheckpoint = ModelCheckpoint(filepath=output_dir+\"/weights.{epoch:02d}.hdf5\")\n",
    "if not os.path.exists(output_dir):\n",
    "    os.makedirs(output_dir)"
   ]
  },
  {
   "cell_type": "code",
   "execution_count": 25,
   "metadata": {},
   "outputs": [
    {
     "name": "stderr",
     "output_type": "stream",
     "text": [
      "C:\\Users\\cbatl\\Anaconda3\\lib\\site-packages\\tensorflow_core\\python\\framework\\indexed_slices.py:424: UserWarning: Converting sparse IndexedSlices to a dense Tensor of unknown shape. This may consume a large amount of memory.\n",
      "  \"Converting sparse IndexedSlices to a dense Tensor of unknown shape. \"\n"
     ]
    },
    {
     "name": "stdout",
     "output_type": "stream",
     "text": [
      "Train on 5100 samples, validate on 2513 samples\n",
      "Epoch 1/10\n",
      "5100/5100 [==============================] - ETA: 2:07 - loss: 0.6919 - accuracy: 0.56 - ETA: 44s - loss: 0.6919 - accuracy: 0.5521 - ETA: 23s - loss: 0.6937 - accuracy: 0.500 - ETA: 16s - loss: 0.6921 - accuracy: 0.541 - ETA: 12s - loss: 0.6916 - accuracy: 0.546 - ETA: 10s - loss: 0.6915 - accuracy: 0.543 - ETA: 9s - loss: 0.6910 - accuracy: 0.546 - ETA: 8s - loss: 0.6912 - accuracy: 0.54 - ETA: 7s - loss: 0.6905 - accuracy: 0.54 - ETA: 6s - loss: 0.6896 - accuracy: 0.55 - ETA: 6s - loss: 0.6895 - accuracy: 0.55 - ETA: 5s - loss: 0.6898 - accuracy: 0.55 - ETA: 5s - loss: 0.6892 - accuracy: 0.55 - ETA: 5s - loss: 0.6896 - accuracy: 0.54 - ETA: 4s - loss: 0.6888 - accuracy: 0.55 - ETA: 4s - loss: 0.6886 - accuracy: 0.55 - ETA: 4s - loss: 0.6875 - accuracy: 0.55 - ETA: 4s - loss: 0.6879 - accuracy: 0.55 - ETA: 3s - loss: 0.6878 - accuracy: 0.55 - ETA: 3s - loss: 0.6876 - accuracy: 0.55 - ETA: 3s - loss: 0.6880 - accuracy: 0.54 - ETA: 3s - loss: 0.6870 - accuracy: 0.55 - ETA: 3s - loss: 0.6873 - accuracy: 0.54 - ETA: 3s - loss: 0.6865 - accuracy: 0.55 - ETA: 2s - loss: 0.6862 - accuracy: 0.55 - ETA: 2s - loss: 0.6856 - accuracy: 0.55 - ETA: 2s - loss: 0.6854 - accuracy: 0.55 - ETA: 2s - loss: 0.6837 - accuracy: 0.56 - ETA: 2s - loss: 0.6832 - accuracy: 0.56 - ETA: 2s - loss: 0.6823 - accuracy: 0.56 - ETA: 2s - loss: 0.6821 - accuracy: 0.56 - ETA: 2s - loss: 0.6820 - accuracy: 0.56 - ETA: 1s - loss: 0.6815 - accuracy: 0.55 - ETA: 1s - loss: 0.6809 - accuracy: 0.55 - ETA: 1s - loss: 0.6794 - accuracy: 0.56 - ETA: 1s - loss: 0.6781 - accuracy: 0.56 - ETA: 1s - loss: 0.6770 - accuracy: 0.56 - ETA: 1s - loss: 0.6766 - accuracy: 0.56 - ETA: 1s - loss: 0.6761 - accuracy: 0.56 - ETA: 1s - loss: 0.6746 - accuracy: 0.56 - ETA: 1s - loss: 0.6740 - accuracy: 0.56 - ETA: 1s - loss: 0.6724 - accuracy: 0.57 - ETA: 0s - loss: 0.6703 - accuracy: 0.57 - ETA: 0s - loss: 0.6700 - accuracy: 0.57 - ETA: 0s - loss: 0.6680 - accuracy: 0.57 - ETA: 0s - loss: 0.6666 - accuracy: 0.58 - ETA: 0s - loss: 0.6651 - accuracy: 0.58 - ETA: 0s - loss: 0.6644 - accuracy: 0.58 - ETA: 0s - loss: 0.6626 - accuracy: 0.59 - ETA: 0s - loss: 0.6605 - accuracy: 0.59 - ETA: 0s - loss: 0.6593 - accuracy: 0.59 - ETA: 0s - loss: 0.6580 - accuracy: 0.60 - ETA: 0s - loss: 0.6551 - accuracy: 0.60 - ETA: 0s - loss: 0.6536 - accuracy: 0.60 - 5s 916us/step - loss: 0.6527 - accuracy: 0.6104 - val_loss: 0.5446 - val_accuracy: 0.7803\n",
      "Epoch 2/10\n",
      "5100/5100 [==============================] - ETA: 4s - loss: 0.5036 - accuracy: 0.78 - ETA: 4s - loss: 0.5338 - accuracy: 0.76 - ETA: 4s - loss: 0.4935 - accuracy: 0.80 - ETA: 4s - loss: 0.4952 - accuracy: 0.80 - ETA: 3s - loss: 0.4740 - accuracy: 0.83 - ETA: 3s - loss: 0.4718 - accuracy: 0.83 - ETA: 3s - loss: 0.4743 - accuracy: 0.82 - ETA: 3s - loss: 0.4665 - accuracy: 0.84 - ETA: 3s - loss: 0.4658 - accuracy: 0.83 - ETA: 3s - loss: 0.4650 - accuracy: 0.83 - ETA: 3s - loss: 0.4650 - accuracy: 0.82 - ETA: 3s - loss: 0.4659 - accuracy: 0.82 - ETA: 3s - loss: 0.4678 - accuracy: 0.82 - ETA: 3s - loss: 0.4602 - accuracy: 0.82 - ETA: 3s - loss: 0.4588 - accuracy: 0.82 - ETA: 3s - loss: 0.4648 - accuracy: 0.82 - ETA: 2s - loss: 0.4592 - accuracy: 0.82 - ETA: 2s - loss: 0.4591 - accuracy: 0.82 - ETA: 2s - loss: 0.4601 - accuracy: 0.82 - ETA: 2s - loss: 0.4605 - accuracy: 0.82 - ETA: 2s - loss: 0.4571 - accuracy: 0.82 - ETA: 2s - loss: 0.4557 - accuracy: 0.82 - ETA: 2s - loss: 0.4558 - accuracy: 0.82 - ETA: 2s - loss: 0.4561 - accuracy: 0.82 - ETA: 2s - loss: 0.4556 - accuracy: 0.82 - ETA: 2s - loss: 0.4558 - accuracy: 0.82 - ETA: 2s - loss: 0.4554 - accuracy: 0.82 - ETA: 2s - loss: 0.4548 - accuracy: 0.82 - ETA: 2s - loss: 0.4566 - accuracy: 0.82 - ETA: 2s - loss: 0.4542 - accuracy: 0.82 - ETA: 2s - loss: 0.4557 - accuracy: 0.82 - ETA: 1s - loss: 0.4564 - accuracy: 0.82 - ETA: 1s - loss: 0.4543 - accuracy: 0.82 - ETA: 1s - loss: 0.4536 - accuracy: 0.82 - ETA: 1s - loss: 0.4525 - accuracy: 0.82 - ETA: 1s - loss: 0.4534 - accuracy: 0.82 - ETA: 1s - loss: 0.4527 - accuracy: 0.82 - ETA: 1s - loss: 0.4520 - accuracy: 0.82 - ETA: 1s - loss: 0.4508 - accuracy: 0.82 - ETA: 1s - loss: 0.4511 - accuracy: 0.82 - ETA: 1s - loss: 0.4520 - accuracy: 0.82 - ETA: 1s - loss: 0.4506 - accuracy: 0.82 - ETA: 1s - loss: 0.4487 - accuracy: 0.82 - ETA: 1s - loss: 0.4501 - accuracy: 0.82 - ETA: 1s - loss: 0.4483 - accuracy: 0.82 - ETA: 1s - loss: 0.4466 - accuracy: 0.82 - ETA: 1s - loss: 0.4461 - accuracy: 0.82 - ETA: 1s - loss: 0.4443 - accuracy: 0.82 - ETA: 0s - loss: 0.4430 - accuracy: 0.82 - ETA: 0s - loss: 0.4426 - accuracy: 0.82 - ETA: 0s - loss: 0.4403 - accuracy: 0.83 - ETA: 0s - loss: 0.4391 - accuracy: 0.83 - ETA: 0s - loss: 0.4376 - accuracy: 0.83 - ETA: 0s - loss: 0.4364 - accuracy: 0.83 - ETA: 0s - loss: 0.4346 - accuracy: 0.83 - ETA: 0s - loss: 0.4328 - accuracy: 0.83 - ETA: 0s - loss: 0.4323 - accuracy: 0.83 - ETA: 0s - loss: 0.4321 - accuracy: 0.83 - ETA: 0s - loss: 0.4327 - accuracy: 0.83 - ETA: 0s - loss: 0.4330 - accuracy: 0.83 - ETA: 0s - loss: 0.4322 - accuracy: 0.83 - ETA: 0s - loss: 0.4324 - accuracy: 0.83 - ETA: 0s - loss: 0.4317 - accuracy: 0.83 - 4s 823us/step - loss: 0.4311 - accuracy: 0.8337 - val_loss: 0.4598 - val_accuracy: 0.8138\n",
      "Epoch 3/10\n",
      "5100/5100 [==============================] - ETA: 4s - loss: 0.3603 - accuracy: 0.84 - ETA: 4s - loss: 0.3670 - accuracy: 0.88 - ETA: 4s - loss: 0.3609 - accuracy: 0.88 - ETA: 3s - loss: 0.3262 - accuracy: 0.90 - ETA: 4s - loss: 0.3135 - accuracy: 0.90 - ETA: 3s - loss: 0.3088 - accuracy: 0.90 - ETA: 3s - loss: 0.3118 - accuracy: 0.90 - ETA: 3s - loss: 0.3127 - accuracy: 0.90 - ETA: 3s - loss: 0.3032 - accuracy: 0.91 - ETA: 3s - loss: 0.2965 - accuracy: 0.91 - ETA: 3s - loss: 0.2899 - accuracy: 0.91 - ETA: 3s - loss: 0.2879 - accuracy: 0.91 - ETA: 3s - loss: 0.2873 - accuracy: 0.91 - ETA: 3s - loss: 0.2837 - accuracy: 0.91 - ETA: 3s - loss: 0.2855 - accuracy: 0.91 - ETA: 2s - loss: 0.2839 - accuracy: 0.91 - ETA: 2s - loss: 0.2829 - accuracy: 0.91 - ETA: 2s - loss: 0.2851 - accuracy: 0.90 - ETA: 2s - loss: 0.2850 - accuracy: 0.91 - ETA: 2s - loss: 0.2853 - accuracy: 0.90 - ETA: 2s - loss: 0.2834 - accuracy: 0.91 - ETA: 2s - loss: 0.2830 - accuracy: 0.91 - ETA: 2s - loss: 0.2827 - accuracy: 0.90 - ETA: 2s - loss: 0.2816 - accuracy: 0.90 - ETA: 2s - loss: 0.2805 - accuracy: 0.90 - ETA: 2s - loss: 0.2809 - accuracy: 0.90 - ETA: 2s - loss: 0.2809 - accuracy: 0.90 - ETA: 2s - loss: 0.2786 - accuracy: 0.90 - ETA: 2s - loss: 0.2798 - accuracy: 0.90 - ETA: 2s - loss: 0.2807 - accuracy: 0.90 - ETA: 1s - loss: 0.2815 - accuracy: 0.90 - ETA: 1s - loss: 0.2797 - accuracy: 0.90 - ETA: 1s - loss: 0.2783 - accuracy: 0.90 - ETA: 1s - loss: 0.2784 - accuracy: 0.90 - ETA: 1s - loss: 0.2770 - accuracy: 0.91 - ETA: 1s - loss: 0.2767 - accuracy: 0.91 - ETA: 1s - loss: 0.2770 - accuracy: 0.91 - ETA: 1s - loss: 0.2773 - accuracy: 0.91 - ETA: 1s - loss: 0.2770 - accuracy: 0.91 - ETA: 1s - loss: 0.2762 - accuracy: 0.91 - ETA: 1s - loss: 0.2748 - accuracy: 0.91 - ETA: 1s - loss: 0.2742 - accuracy: 0.91 - ETA: 1s - loss: 0.2756 - accuracy: 0.91 - ETA: 1s - loss: 0.2765 - accuracy: 0.91 - ETA: 0s - loss: 0.2771 - accuracy: 0.90 - ETA: 0s - loss: 0.2751 - accuracy: 0.91 - ETA: 0s - loss: 0.2738 - accuracy: 0.91 - ETA: 0s - loss: 0.2732 - accuracy: 0.91 - ETA: 0s - loss: 0.2718 - accuracy: 0.91 - ETA: 0s - loss: 0.2727 - accuracy: 0.91 - ETA: 0s - loss: 0.2715 - accuracy: 0.91 - ETA: 0s - loss: 0.2702 - accuracy: 0.91 - ETA: 0s - loss: 0.2692 - accuracy: 0.91 - ETA: 0s - loss: 0.2690 - accuracy: 0.91 - ETA: 0s - loss: 0.2695 - accuracy: 0.91 - ETA: 0s - loss: 0.2703 - accuracy: 0.91 - ETA: 0s - loss: 0.2704 - accuracy: 0.91 - ETA: 0s - loss: 0.2718 - accuracy: 0.91 - ETA: 0s - loss: 0.2704 - accuracy: 0.91 - ETA: 0s - loss: 0.2696 - accuracy: 0.91 - 4s 795us/step - loss: 0.2695 - accuracy: 0.9120 - val_loss: 0.4859 - val_accuracy: 0.7907\n",
      "Epoch 4/10\n"
     ]
    },
    {
     "name": "stdout",
     "output_type": "stream",
     "text": [
      "5100/5100 [==============================] - ETA: 4s - loss: 0.2382 - accuracy: 0.93 - ETA: 4s - loss: 0.2152 - accuracy: 0.93 - ETA: 4s - loss: 0.2379 - accuracy: 0.93 - ETA: 3s - loss: 0.2014 - accuracy: 0.94 - ETA: 3s - loss: 0.2013 - accuracy: 0.94 - ETA: 3s - loss: 0.1888 - accuracy: 0.95 - ETA: 3s - loss: 0.1848 - accuracy: 0.95 - ETA: 3s - loss: 0.1797 - accuracy: 0.95 - ETA: 3s - loss: 0.1821 - accuracy: 0.95 - ETA: 3s - loss: 0.1784 - accuracy: 0.95 - ETA: 3s - loss: 0.1875 - accuracy: 0.95 - ETA: 3s - loss: 0.1835 - accuracy: 0.95 - ETA: 2s - loss: 0.1870 - accuracy: 0.95 - ETA: 2s - loss: 0.1820 - accuracy: 0.95 - ETA: 2s - loss: 0.1809 - accuracy: 0.95 - ETA: 2s - loss: 0.1853 - accuracy: 0.95 - ETA: 2s - loss: 0.1823 - accuracy: 0.95 - ETA: 2s - loss: 0.1812 - accuracy: 0.95 - ETA: 2s - loss: 0.1826 - accuracy: 0.95 - ETA: 2s - loss: 0.1816 - accuracy: 0.95 - ETA: 2s - loss: 0.1828 - accuracy: 0.95 - ETA: 2s - loss: 0.1814 - accuracy: 0.95 - ETA: 2s - loss: 0.1800 - accuracy: 0.95 - ETA: 2s - loss: 0.1792 - accuracy: 0.95 - ETA: 2s - loss: 0.1804 - accuracy: 0.95 - ETA: 2s - loss: 0.1799 - accuracy: 0.95 - ETA: 2s - loss: 0.1773 - accuracy: 0.95 - ETA: 2s - loss: 0.1785 - accuracy: 0.95 - ETA: 2s - loss: 0.1805 - accuracy: 0.94 - ETA: 2s - loss: 0.1793 - accuracy: 0.95 - ETA: 2s - loss: 0.1781 - accuracy: 0.95 - ETA: 1s - loss: 0.1776 - accuracy: 0.95 - ETA: 1s - loss: 0.1771 - accuracy: 0.95 - ETA: 1s - loss: 0.1779 - accuracy: 0.95 - ETA: 1s - loss: 0.1767 - accuracy: 0.95 - ETA: 1s - loss: 0.1775 - accuracy: 0.95 - ETA: 1s - loss: 0.1759 - accuracy: 0.95 - ETA: 1s - loss: 0.1769 - accuracy: 0.95 - ETA: 1s - loss: 0.1769 - accuracy: 0.95 - ETA: 1s - loss: 0.1756 - accuracy: 0.95 - ETA: 1s - loss: 0.1768 - accuracy: 0.95 - ETA: 1s - loss: 0.1774 - accuracy: 0.95 - ETA: 1s - loss: 0.1761 - accuracy: 0.95 - ETA: 1s - loss: 0.1755 - accuracy: 0.95 - ETA: 1s - loss: 0.1744 - accuracy: 0.95 - ETA: 1s - loss: 0.1731 - accuracy: 0.95 - ETA: 1s - loss: 0.1727 - accuracy: 0.95 - ETA: 1s - loss: 0.1721 - accuracy: 0.95 - ETA: 0s - loss: 0.1728 - accuracy: 0.95 - ETA: 0s - loss: 0.1714 - accuracy: 0.95 - ETA: 0s - loss: 0.1709 - accuracy: 0.95 - ETA: 0s - loss: 0.1725 - accuracy: 0.95 - ETA: 0s - loss: 0.1718 - accuracy: 0.95 - ETA: 0s - loss: 0.1728 - accuracy: 0.95 - ETA: 0s - loss: 0.1749 - accuracy: 0.95 - ETA: 0s - loss: 0.1774 - accuracy: 0.94 - ETA: 0s - loss: 0.1801 - accuracy: 0.94 - ETA: 0s - loss: 0.1809 - accuracy: 0.94 - ETA: 0s - loss: 0.1807 - accuracy: 0.94 - ETA: 0s - loss: 0.1809 - accuracy: 0.94 - ETA: 0s - loss: 0.1826 - accuracy: 0.94 - ETA: 0s - loss: 0.1823 - accuracy: 0.94 - ETA: 0s - loss: 0.1827 - accuracy: 0.94 - 4s 822us/step - loss: 0.1826 - accuracy: 0.9475 - val_loss: 0.5573 - val_accuracy: 0.7553\n",
      "Epoch 5/10\n",
      "5100/5100 [==============================] - ETA: 4s - loss: 0.0901 - accuracy: 1.00 - ETA: 4s - loss: 0.1531 - accuracy: 0.97 - ETA: 4s - loss: 0.1374 - accuracy: 0.98 - ETA: 3s - loss: 0.1367 - accuracy: 0.97 - ETA: 3s - loss: 0.1538 - accuracy: 0.96 - ETA: 3s - loss: 0.1554 - accuracy: 0.96 - ETA: 3s - loss: 0.1527 - accuracy: 0.96 - ETA: 3s - loss: 0.1505 - accuracy: 0.96 - ETA: 3s - loss: 0.1436 - accuracy: 0.96 - ETA: 3s - loss: 0.1461 - accuracy: 0.96 - ETA: 3s - loss: 0.1458 - accuracy: 0.96 - ETA: 2s - loss: 0.1545 - accuracy: 0.95 - ETA: 2s - loss: 0.1536 - accuracy: 0.95 - ETA: 2s - loss: 0.1508 - accuracy: 0.95 - ETA: 2s - loss: 0.1463 - accuracy: 0.96 - ETA: 2s - loss: 0.1438 - accuracy: 0.96 - ETA: 2s - loss: 0.1457 - accuracy: 0.96 - ETA: 2s - loss: 0.1468 - accuracy: 0.96 - ETA: 2s - loss: 0.1475 - accuracy: 0.96 - ETA: 2s - loss: 0.1459 - accuracy: 0.96 - ETA: 2s - loss: 0.1452 - accuracy: 0.96 - ETA: 2s - loss: 0.1454 - accuracy: 0.96 - ETA: 2s - loss: 0.1450 - accuracy: 0.96 - ETA: 2s - loss: 0.1425 - accuracy: 0.96 - ETA: 2s - loss: 0.1411 - accuracy: 0.96 - ETA: 2s - loss: 0.1408 - accuracy: 0.96 - ETA: 2s - loss: 0.1409 - accuracy: 0.96 - ETA: 2s - loss: 0.1436 - accuracy: 0.96 - ETA: 2s - loss: 0.1430 - accuracy: 0.96 - ETA: 1s - loss: 0.1433 - accuracy: 0.96 - ETA: 1s - loss: 0.1431 - accuracy: 0.96 - ETA: 1s - loss: 0.1421 - accuracy: 0.96 - ETA: 1s - loss: 0.1421 - accuracy: 0.96 - ETA: 1s - loss: 0.1426 - accuracy: 0.96 - ETA: 1s - loss: 0.1416 - accuracy: 0.96 - ETA: 1s - loss: 0.1414 - accuracy: 0.96 - ETA: 1s - loss: 0.1398 - accuracy: 0.96 - ETA: 1s - loss: 0.1385 - accuracy: 0.96 - ETA: 1s - loss: 0.1369 - accuracy: 0.96 - ETA: 1s - loss: 0.1348 - accuracy: 0.96 - ETA: 1s - loss: 0.1365 - accuracy: 0.96 - ETA: 1s - loss: 0.1362 - accuracy: 0.96 - ETA: 1s - loss: 0.1360 - accuracy: 0.96 - ETA: 1s - loss: 0.1356 - accuracy: 0.96 - ETA: 1s - loss: 0.1360 - accuracy: 0.96 - ETA: 1s - loss: 0.1357 - accuracy: 0.96 - ETA: 1s - loss: 0.1353 - accuracy: 0.96 - ETA: 1s - loss: 0.1349 - accuracy: 0.96 - ETA: 0s - loss: 0.1346 - accuracy: 0.96 - ETA: 0s - loss: 0.1338 - accuracy: 0.96 - ETA: 0s - loss: 0.1338 - accuracy: 0.96 - ETA: 0s - loss: 0.1341 - accuracy: 0.96 - ETA: 0s - loss: 0.1350 - accuracy: 0.96 - ETA: 0s - loss: 0.1341 - accuracy: 0.96 - ETA: 0s - loss: 0.1335 - accuracy: 0.96 - ETA: 0s - loss: 0.1344 - accuracy: 0.96 - ETA: 0s - loss: 0.1337 - accuracy: 0.96 - ETA: 0s - loss: 0.1335 - accuracy: 0.96 - ETA: 0s - loss: 0.1325 - accuracy: 0.96 - ETA: 0s - loss: 0.1341 - accuracy: 0.96 - ETA: 0s - loss: 0.1337 - accuracy: 0.96 - ETA: 0s - loss: 0.1328 - accuracy: 0.96 - ETA: 0s - loss: 0.1347 - accuracy: 0.96 - ETA: 0s - loss: 0.1340 - accuracy: 0.96 - ETA: 0s - loss: 0.1361 - accuracy: 0.96 - ETA: 0s - loss: 0.1359 - accuracy: 0.96 - 4s 839us/step - loss: 0.1357 - accuracy: 0.9645 - val_loss: 0.5574 - val_accuracy: 0.7843\n",
      "Epoch 6/10\n",
      "5100/5100 [==============================] - ETA: 3s - loss: 0.0476 - accuracy: 1.00 - ETA: 3s - loss: 0.1158 - accuracy: 0.96 - ETA: 3s - loss: 0.1129 - accuracy: 0.97 - ETA: 3s - loss: 0.1028 - accuracy: 0.97 - ETA: 3s - loss: 0.1074 - accuracy: 0.97 - ETA: 3s - loss: 0.1092 - accuracy: 0.97 - ETA: 3s - loss: 0.1076 - accuracy: 0.97 - ETA: 3s - loss: 0.1085 - accuracy: 0.97 - ETA: 3s - loss: 0.1016 - accuracy: 0.97 - ETA: 3s - loss: 0.1055 - accuracy: 0.97 - ETA: 3s - loss: 0.1060 - accuracy: 0.97 - ETA: 2s - loss: 0.1058 - accuracy: 0.97 - ETA: 2s - loss: 0.1040 - accuracy: 0.97 - ETA: 2s - loss: 0.1004 - accuracy: 0.97 - ETA: 2s - loss: 0.1037 - accuracy: 0.97 - ETA: 2s - loss: 0.1045 - accuracy: 0.97 - ETA: 2s - loss: 0.1034 - accuracy: 0.97 - ETA: 2s - loss: 0.1085 - accuracy: 0.97 - ETA: 2s - loss: 0.1097 - accuracy: 0.97 - ETA: 2s - loss: 0.1096 - accuracy: 0.97 - ETA: 2s - loss: 0.1126 - accuracy: 0.97 - ETA: 2s - loss: 0.1109 - accuracy: 0.97 - ETA: 2s - loss: 0.1153 - accuracy: 0.97 - ETA: 2s - loss: 0.1135 - accuracy: 0.97 - ETA: 2s - loss: 0.1142 - accuracy: 0.97 - ETA: 1s - loss: 0.1163 - accuracy: 0.97 - ETA: 1s - loss: 0.1168 - accuracy: 0.97 - ETA: 1s - loss: 0.1143 - accuracy: 0.97 - ETA: 1s - loss: 0.1166 - accuracy: 0.97 - ETA: 1s - loss: 0.1204 - accuracy: 0.96 - ETA: 1s - loss: 0.1197 - accuracy: 0.96 - ETA: 1s - loss: 0.1184 - accuracy: 0.96 - ETA: 1s - loss: 0.1169 - accuracy: 0.96 - ETA: 1s - loss: 0.1182 - accuracy: 0.96 - ETA: 1s - loss: 0.1172 - accuracy: 0.96 - ETA: 1s - loss: 0.1164 - accuracy: 0.96 - ETA: 1s - loss: 0.1154 - accuracy: 0.96 - ETA: 1s - loss: 0.1147 - accuracy: 0.96 - ETA: 1s - loss: 0.1154 - accuracy: 0.96 - ETA: 0s - loss: 0.1144 - accuracy: 0.96 - ETA: 0s - loss: 0.1153 - accuracy: 0.96 - ETA: 0s - loss: 0.1161 - accuracy: 0.96 - ETA: 0s - loss: 0.1162 - accuracy: 0.96 - ETA: 0s - loss: 0.1158 - accuracy: 0.96 - ETA: 0s - loss: 0.1148 - accuracy: 0.96 - ETA: 0s - loss: 0.1143 - accuracy: 0.96 - ETA: 0s - loss: 0.1151 - accuracy: 0.96 - ETA: 0s - loss: 0.1150 - accuracy: 0.96 - ETA: 0s - loss: 0.1144 - accuracy: 0.96 - ETA: 0s - loss: 0.1141 - accuracy: 0.97 - ETA: 0s - loss: 0.1135 - accuracy: 0.97 - ETA: 0s - loss: 0.1124 - accuracy: 0.97 - ETA: 0s - loss: 0.1121 - accuracy: 0.97 - ETA: 0s - loss: 0.1109 - accuracy: 0.97 - 4s 767us/step - loss: 0.1113 - accuracy: 0.9706 - val_loss: 0.5997 - val_accuracy: 0.7899\n",
      "Epoch 7/10\n"
     ]
    },
    {
     "name": "stdout",
     "output_type": "stream",
     "text": [
      "5100/5100 [==============================] - ETA: 4s - loss: 0.0701 - accuracy: 0.96 - ETA: 3s - loss: 0.0577 - accuracy: 0.98 - ETA: 3s - loss: 0.0730 - accuracy: 0.98 - ETA: 3s - loss: 0.0635 - accuracy: 0.98 - ETA: 3s - loss: 0.0730 - accuracy: 0.98 - ETA: 3s - loss: 0.0700 - accuracy: 0.98 - ETA: 3s - loss: 0.0674 - accuracy: 0.98 - ETA: 3s - loss: 0.0675 - accuracy: 0.98 - ETA: 3s - loss: 0.0692 - accuracy: 0.98 - ETA: 3s - loss: 0.0659 - accuracy: 0.98 - ETA: 3s - loss: 0.0705 - accuracy: 0.98 - ETA: 2s - loss: 0.0686 - accuracy: 0.98 - ETA: 2s - loss: 0.0711 - accuracy: 0.98 - ETA: 2s - loss: 0.0683 - accuracy: 0.98 - ETA: 2s - loss: 0.0678 - accuracy: 0.98 - ETA: 2s - loss: 0.0712 - accuracy: 0.98 - ETA: 2s - loss: 0.0758 - accuracy: 0.98 - ETA: 2s - loss: 0.0773 - accuracy: 0.98 - ETA: 2s - loss: 0.0813 - accuracy: 0.98 - ETA: 2s - loss: 0.0818 - accuracy: 0.98 - ETA: 2s - loss: 0.0826 - accuracy: 0.98 - ETA: 2s - loss: 0.0827 - accuracy: 0.98 - ETA: 2s - loss: 0.0848 - accuracy: 0.98 - ETA: 2s - loss: 0.0843 - accuracy: 0.98 - ETA: 2s - loss: 0.0843 - accuracy: 0.98 - ETA: 1s - loss: 0.0833 - accuracy: 0.98 - ETA: 1s - loss: 0.0834 - accuracy: 0.98 - ETA: 1s - loss: 0.0846 - accuracy: 0.98 - ETA: 1s - loss: 0.0843 - accuracy: 0.98 - ETA: 1s - loss: 0.0868 - accuracy: 0.97 - ETA: 1s - loss: 0.0867 - accuracy: 0.97 - ETA: 1s - loss: 0.0902 - accuracy: 0.97 - ETA: 1s - loss: 0.0937 - accuracy: 0.97 - ETA: 1s - loss: 0.0937 - accuracy: 0.97 - ETA: 1s - loss: 0.0951 - accuracy: 0.97 - ETA: 1s - loss: 0.0975 - accuracy: 0.97 - ETA: 1s - loss: 0.0958 - accuracy: 0.97 - ETA: 1s - loss: 0.0960 - accuracy: 0.97 - ETA: 1s - loss: 0.0953 - accuracy: 0.97 - ETA: 1s - loss: 0.0947 - accuracy: 0.97 - ETA: 0s - loss: 0.0944 - accuracy: 0.97 - ETA: 0s - loss: 0.0946 - accuracy: 0.97 - ETA: 0s - loss: 0.0956 - accuracy: 0.97 - ETA: 0s - loss: 0.0947 - accuracy: 0.97 - ETA: 0s - loss: 0.0959 - accuracy: 0.97 - ETA: 0s - loss: 0.0967 - accuracy: 0.97 - ETA: 0s - loss: 0.0978 - accuracy: 0.97 - ETA: 0s - loss: 0.0979 - accuracy: 0.97 - ETA: 0s - loss: 0.0983 - accuracy: 0.97 - ETA: 0s - loss: 0.0971 - accuracy: 0.97 - ETA: 0s - loss: 0.0968 - accuracy: 0.97 - ETA: 0s - loss: 0.0961 - accuracy: 0.97 - ETA: 0s - loss: 0.0962 - accuracy: 0.97 - ETA: 0s - loss: 0.0970 - accuracy: 0.97 - 4s 761us/step - loss: 0.0968 - accuracy: 0.9749 - val_loss: 0.6349 - val_accuracy: 0.7959\n",
      "Epoch 8/10\n",
      "5100/5100 [==============================] - ETA: 3s - loss: 0.0367 - accuracy: 1.00 - ETA: 3s - loss: 0.0340 - accuracy: 1.00 - ETA: 3s - loss: 0.0384 - accuracy: 0.99 - ETA: 3s - loss: 0.0445 - accuracy: 0.99 - ETA: 3s - loss: 0.0516 - accuracy: 0.99 - ETA: 3s - loss: 0.0611 - accuracy: 0.98 - ETA: 3s - loss: 0.0595 - accuracy: 0.98 - ETA: 3s - loss: 0.0635 - accuracy: 0.98 - ETA: 3s - loss: 0.0631 - accuracy: 0.98 - ETA: 2s - loss: 0.0768 - accuracy: 0.98 - ETA: 2s - loss: 0.0785 - accuracy: 0.98 - ETA: 2s - loss: 0.0746 - accuracy: 0.98 - ETA: 2s - loss: 0.0781 - accuracy: 0.98 - ETA: 2s - loss: 0.0801 - accuracy: 0.98 - ETA: 2s - loss: 0.0818 - accuracy: 0.97 - ETA: 2s - loss: 0.0800 - accuracy: 0.97 - ETA: 2s - loss: 0.0825 - accuracy: 0.97 - ETA: 2s - loss: 0.0822 - accuracy: 0.97 - ETA: 2s - loss: 0.0865 - accuracy: 0.97 - ETA: 2s - loss: 0.0847 - accuracy: 0.97 - ETA: 2s - loss: 0.0833 - accuracy: 0.97 - ETA: 2s - loss: 0.0869 - accuracy: 0.97 - ETA: 2s - loss: 0.0853 - accuracy: 0.97 - ETA: 2s - loss: 0.0855 - accuracy: 0.97 - ETA: 1s - loss: 0.0861 - accuracy: 0.97 - ETA: 1s - loss: 0.0849 - accuracy: 0.97 - ETA: 1s - loss: 0.0846 - accuracy: 0.97 - ETA: 1s - loss: 0.0845 - accuracy: 0.97 - ETA: 1s - loss: 0.0833 - accuracy: 0.97 - ETA: 1s - loss: 0.0829 - accuracy: 0.97 - ETA: 1s - loss: 0.0843 - accuracy: 0.97 - ETA: 1s - loss: 0.0845 - accuracy: 0.97 - ETA: 1s - loss: 0.0851 - accuracy: 0.97 - ETA: 1s - loss: 0.0843 - accuracy: 0.97 - ETA: 1s - loss: 0.0848 - accuracy: 0.97 - ETA: 1s - loss: 0.0874 - accuracy: 0.97 - ETA: 1s - loss: 0.0878 - accuracy: 0.97 - ETA: 1s - loss: 0.0878 - accuracy: 0.97 - ETA: 1s - loss: 0.0878 - accuracy: 0.97 - ETA: 1s - loss: 0.0868 - accuracy: 0.97 - ETA: 0s - loss: 0.0858 - accuracy: 0.97 - ETA: 0s - loss: 0.0861 - accuracy: 0.97 - ETA: 0s - loss: 0.0857 - accuracy: 0.97 - ETA: 0s - loss: 0.0852 - accuracy: 0.97 - ETA: 0s - loss: 0.0862 - accuracy: 0.97 - ETA: 0s - loss: 0.0857 - accuracy: 0.97 - ETA: 0s - loss: 0.0851 - accuracy: 0.97 - ETA: 0s - loss: 0.0847 - accuracy: 0.97 - ETA: 0s - loss: 0.0864 - accuracy: 0.97 - ETA: 0s - loss: 0.0854 - accuracy: 0.97 - ETA: 0s - loss: 0.0851 - accuracy: 0.97 - ETA: 0s - loss: 0.0853 - accuracy: 0.97 - ETA: 0s - loss: 0.0850 - accuracy: 0.97 - ETA: 0s - loss: 0.0845 - accuracy: 0.97 - 4s 760us/step - loss: 0.0844 - accuracy: 0.9765 - val_loss: 0.6369 - val_accuracy: 0.7712\n",
      "Epoch 9/10\n",
      "5100/5100 [==============================] - ETA: 4s - loss: 0.0799 - accuracy: 1.00 - ETA: 3s - loss: 0.0736 - accuracy: 0.98 - ETA: 3s - loss: 0.0806 - accuracy: 0.98 - ETA: 3s - loss: 0.0677 - accuracy: 0.98 - ETA: 3s - loss: 0.0722 - accuracy: 0.98 - ETA: 3s - loss: 0.0735 - accuracy: 0.98 - ETA: 3s - loss: 0.0771 - accuracy: 0.98 - ETA: 3s - loss: 0.0727 - accuracy: 0.98 - ETA: 3s - loss: 0.0790 - accuracy: 0.98 - ETA: 3s - loss: 0.0740 - accuracy: 0.98 - ETA: 2s - loss: 0.0729 - accuracy: 0.98 - ETA: 2s - loss: 0.0734 - accuracy: 0.98 - ETA: 2s - loss: 0.0715 - accuracy: 0.98 - ETA: 2s - loss: 0.0722 - accuracy: 0.98 - ETA: 2s - loss: 0.0706 - accuracy: 0.98 - ETA: 2s - loss: 0.0699 - accuracy: 0.98 - ETA: 2s - loss: 0.0670 - accuracy: 0.98 - ETA: 2s - loss: 0.0658 - accuracy: 0.98 - ETA: 2s - loss: 0.0679 - accuracy: 0.98 - ETA: 2s - loss: 0.0671 - accuracy: 0.98 - ETA: 2s - loss: 0.0660 - accuracy: 0.98 - ETA: 2s - loss: 0.0665 - accuracy: 0.98 - ETA: 2s - loss: 0.0675 - accuracy: 0.98 - ETA: 2s - loss: 0.0702 - accuracy: 0.98 - ETA: 2s - loss: 0.0699 - accuracy: 0.98 - ETA: 1s - loss: 0.0723 - accuracy: 0.97 - ETA: 1s - loss: 0.0713 - accuracy: 0.98 - ETA: 1s - loss: 0.0724 - accuracy: 0.98 - ETA: 1s - loss: 0.0734 - accuracy: 0.98 - ETA: 1s - loss: 0.0749 - accuracy: 0.98 - ETA: 1s - loss: 0.0751 - accuracy: 0.98 - ETA: 1s - loss: 0.0754 - accuracy: 0.98 - ETA: 1s - loss: 0.0743 - accuracy: 0.98 - ETA: 1s - loss: 0.0728 - accuracy: 0.98 - ETA: 1s - loss: 0.0729 - accuracy: 0.98 - ETA: 1s - loss: 0.0720 - accuracy: 0.98 - ETA: 1s - loss: 0.0714 - accuracy: 0.98 - ETA: 1s - loss: 0.0725 - accuracy: 0.98 - ETA: 1s - loss: 0.0729 - accuracy: 0.98 - ETA: 1s - loss: 0.0717 - accuracy: 0.98 - ETA: 0s - loss: 0.0725 - accuracy: 0.98 - ETA: 0s - loss: 0.0723 - accuracy: 0.98 - ETA: 0s - loss: 0.0714 - accuracy: 0.98 - ETA: 0s - loss: 0.0720 - accuracy: 0.98 - ETA: 0s - loss: 0.0723 - accuracy: 0.98 - ETA: 0s - loss: 0.0721 - accuracy: 0.98 - ETA: 0s - loss: 0.0721 - accuracy: 0.98 - ETA: 0s - loss: 0.0720 - accuracy: 0.98 - ETA: 0s - loss: 0.0719 - accuracy: 0.98 - ETA: 0s - loss: 0.0715 - accuracy: 0.98 - ETA: 0s - loss: 0.0721 - accuracy: 0.98 - ETA: 0s - loss: 0.0721 - accuracy: 0.98 - ETA: 0s - loss: 0.0726 - accuracy: 0.98 - ETA: 0s - loss: 0.0727 - accuracy: 0.98 - ETA: 0s - loss: 0.0734 - accuracy: 0.97 - ETA: 0s - loss: 0.0732 - accuracy: 0.97 - 4s 774us/step - loss: 0.0737 - accuracy: 0.9794 - val_loss: 0.6520 - val_accuracy: 0.7907\n",
      "Epoch 10/10\n"
     ]
    },
    {
     "name": "stdout",
     "output_type": "stream",
     "text": [
      "5100/5100 [==============================] - ETA: 4s - loss: 0.0233 - accuracy: 1.00 - ETA: 4s - loss: 0.0694 - accuracy: 0.96 - ETA: 3s - loss: 0.0508 - accuracy: 0.97 - ETA: 3s - loss: 0.0560 - accuracy: 0.98 - ETA: 3s - loss: 0.0534 - accuracy: 0.98 - ETA: 3s - loss: 0.0582 - accuracy: 0.98 - ETA: 3s - loss: 0.0553 - accuracy: 0.98 - ETA: 3s - loss: 0.0569 - accuracy: 0.98 - ETA: 3s - loss: 0.0662 - accuracy: 0.97 - ETA: 3s - loss: 0.0627 - accuracy: 0.98 - ETA: 3s - loss: 0.0594 - accuracy: 0.98 - ETA: 2s - loss: 0.0614 - accuracy: 0.98 - ETA: 2s - loss: 0.0622 - accuracy: 0.98 - ETA: 2s - loss: 0.0633 - accuracy: 0.98 - ETA: 2s - loss: 0.0694 - accuracy: 0.98 - ETA: 2s - loss: 0.0670 - accuracy: 0.98 - ETA: 2s - loss: 0.0667 - accuracy: 0.98 - ETA: 2s - loss: 0.0651 - accuracy: 0.98 - ETA: 2s - loss: 0.0633 - accuracy: 0.98 - ETA: 2s - loss: 0.0669 - accuracy: 0.98 - ETA: 2s - loss: 0.0671 - accuracy: 0.98 - ETA: 2s - loss: 0.0670 - accuracy: 0.98 - ETA: 2s - loss: 0.0663 - accuracy: 0.98 - ETA: 2s - loss: 0.0667 - accuracy: 0.98 - ETA: 2s - loss: 0.0675 - accuracy: 0.98 - ETA: 2s - loss: 0.0665 - accuracy: 0.98 - ETA: 2s - loss: 0.0659 - accuracy: 0.98 - ETA: 2s - loss: 0.0658 - accuracy: 0.98 - ETA: 2s - loss: 0.0681 - accuracy: 0.98 - ETA: 2s - loss: 0.0666 - accuracy: 0.98 - ETA: 2s - loss: 0.0660 - accuracy: 0.98 - ETA: 2s - loss: 0.0656 - accuracy: 0.98 - ETA: 2s - loss: 0.0676 - accuracy: 0.98 - ETA: 2s - loss: 0.0666 - accuracy: 0.98 - ETA: 2s - loss: 0.0666 - accuracy: 0.98 - ETA: 2s - loss: 0.0658 - accuracy: 0.98 - ETA: 2s - loss: 0.0647 - accuracy: 0.98 - ETA: 1s - loss: 0.0637 - accuracy: 0.98 - ETA: 1s - loss: 0.0643 - accuracy: 0.98 - ETA: 1s - loss: 0.0640 - accuracy: 0.98 - ETA: 1s - loss: 0.0641 - accuracy: 0.98 - ETA: 1s - loss: 0.0644 - accuracy: 0.98 - ETA: 1s - loss: 0.0636 - accuracy: 0.98 - ETA: 1s - loss: 0.0629 - accuracy: 0.98 - ETA: 1s - loss: 0.0626 - accuracy: 0.98 - ETA: 1s - loss: 0.0629 - accuracy: 0.98 - ETA: 1s - loss: 0.0638 - accuracy: 0.98 - ETA: 1s - loss: 0.0652 - accuracy: 0.98 - ETA: 1s - loss: 0.0650 - accuracy: 0.98 - ETA: 1s - loss: 0.0669 - accuracy: 0.98 - ETA: 1s - loss: 0.0662 - accuracy: 0.98 - ETA: 1s - loss: 0.0669 - accuracy: 0.98 - ETA: 1s - loss: 0.0662 - accuracy: 0.98 - ETA: 1s - loss: 0.0675 - accuracy: 0.98 - ETA: 1s - loss: 0.0667 - accuracy: 0.98 - ETA: 1s - loss: 0.0673 - accuracy: 0.98 - ETA: 0s - loss: 0.0671 - accuracy: 0.98 - ETA: 0s - loss: 0.0677 - accuracy: 0.98 - ETA: 0s - loss: 0.0671 - accuracy: 0.98 - ETA: 0s - loss: 0.0668 - accuracy: 0.98 - ETA: 0s - loss: 0.0665 - accuracy: 0.98 - ETA: 0s - loss: 0.0660 - accuracy: 0.98 - ETA: 0s - loss: 0.0670 - accuracy: 0.98 - ETA: 0s - loss: 0.0669 - accuracy: 0.98 - ETA: 0s - loss: 0.0674 - accuracy: 0.98 - ETA: 0s - loss: 0.0670 - accuracy: 0.98 - ETA: 0s - loss: 0.0672 - accuracy: 0.98 - ETA: 0s - loss: 0.0670 - accuracy: 0.98 - ETA: 0s - loss: 0.0673 - accuracy: 0.98 - ETA: 0s - loss: 0.0673 - accuracy: 0.98 - ETA: 0s - loss: 0.0675 - accuracy: 0.98 - ETA: 0s - loss: 0.0674 - accuracy: 0.98 - ETA: 0s - loss: 0.0676 - accuracy: 0.98 - ETA: 0s - loss: 0.0672 - accuracy: 0.98 - 5s 911us/step - loss: 0.0678 - accuracy: 0.9812 - val_loss: 0.6676 - val_accuracy: 0.7875\n"
     ]
    }
   ],
   "source": [
    "r = model.fit(X_train_data,y_train,epochs=10,verbose=1,\n",
    "         validation_data=(X_val_data,y_val),\n",
    "         callbacks=[modelcheckpoint])"
   ]
  },
  {
   "cell_type": "code",
   "execution_count": 26,
   "metadata": {},
   "outputs": [
    {
     "data": {
      "text/plain": [
       "<matplotlib.legend.Legend at 0x2007f56ec08>"
      ]
     },
     "execution_count": 26,
     "metadata": {},
     "output_type": "execute_result"
    },
    {
     "data": {
      "image/png": "[encoded data removed]",
      "text/plain": [
       "<Figure size 432x288 with 1 Axes>"
      ]
     },
     "metadata": {
      "needs_background": "light"
     },
     "output_type": "display_data"
    }
   ],
   "source": [
    "import matplotlib.pyplot as plt\n",
    "\n",
    "plt.plot(r.history['accuracy'],label = 'Training_Accuracy')\n",
    "plt.plot(r.history['val_accuracy'],label = 'val_Accuracy')\n",
    "plt.legend()"
   ]
  },
  {
   "cell_type": "code",
   "execution_count": 27,
   "metadata": {},
   "outputs": [],
   "source": [
    "model.load_weights(output_dir+\"/weights.02.hdf5\")"
   ]
  },
  {
   "cell_type": "code",
   "execution_count": 28,
   "metadata": {},
   "outputs": [],
   "source": [
    "y_hat = model.predict(X_val_data)"
   ]
  },
  {
   "cell_type": "code",
   "execution_count": 32,
   "metadata": {},
   "outputs": [
    {
     "ename": "AttributeError",
     "evalue": "'Model' object has no attribute 'predict_classes'",
     "output_type": "error",
     "traceback": [
      "\u001b[1;31m---------------------------------------------------------------------------\u001b[0m",
      "\u001b[1;31mAttributeError\u001b[0m                            Traceback (most recent call last)",
      "\u001b[1;32m<ipython-input-32-d06dd87fa1af>\u001b[0m in \u001b[0;36m<module>\u001b[1;34m\u001b[0m\n\u001b[1;32m----> 1\u001b[1;33m \u001b[0my_hat_classes\u001b[0m \u001b[1;33m=\u001b[0m \u001b[0mmodel\u001b[0m\u001b[1;33m.\u001b[0m\u001b[0mpredict_classes\u001b[0m\u001b[1;33m(\u001b[0m\u001b[0mX_val_data\u001b[0m\u001b[1;33m)\u001b[0m\u001b[1;33m\u001b[0m\u001b[1;33m\u001b[0m\u001b[0m\n\u001b[0m",
      "\u001b[1;31mAttributeError\u001b[0m: 'Model' object has no attribute 'predict_classes'"
     ]
    }
   ],
   "source": [
    "y_hat_classes = model.predict_classes(X_val_data)"
   ]
  },
  {
   "cell_type": "code",
   "execution_count": 29,
   "metadata": {},
   "outputs": [],
   "source": [
    "float_y_hat = []\n",
    "for y in y_hat:\n",
    "    float_y_hat.append(y[0])\n"
   ]
  },
  {
   "cell_type": "code",
   "execution_count": 30,
   "metadata": {},
   "outputs": [],
   "source": [
    "ydf = pd.DataFrame(list(zip(float_y_hat,y_val)),columns=['y_hat','y_val'])"
   ]
  },
  {
   "cell_type": "code",
   "execution_count": 31,
   "metadata": {},
   "outputs": [
    {
     "data": {
      "text/html": [
       "<div>\n",
       "<style scoped>\n",
       "    .dataframe tbody tr th:only-of-type {\n",
       "        vertical-align: middle;\n",
       "    }\n",
       "\n",
       "    .dataframe tbody tr th {\n",
       "        vertical-align: top;\n",
       "    }\n",
       "\n",
       "    .dataframe thead th {\n",
       "        text-align: right;\n",
       "    }\n",
       "</style>\n",
       "<table border=\"1\" class=\"dataframe\">\n",
       "  <thead>\n",
       "    <tr style=\"text-align: right;\">\n",
       "      <th></th>\n",
       "      <th>y_hat</th>\n",
       "      <th>y_val</th>\n",
       "    </tr>\n",
       "  </thead>\n",
       "  <tbody>\n",
       "    <tr>\n",
       "      <td>0</td>\n",
       "      <td>0.088783</td>\n",
       "      <td>1</td>\n",
       "    </tr>\n",
       "    <tr>\n",
       "      <td>1</td>\n",
       "      <td>0.089572</td>\n",
       "      <td>0</td>\n",
       "    </tr>\n",
       "    <tr>\n",
       "      <td>2</td>\n",
       "      <td>0.534186</td>\n",
       "      <td>1</td>\n",
       "    </tr>\n",
       "    <tr>\n",
       "      <td>3</td>\n",
       "      <td>0.068555</td>\n",
       "      <td>0</td>\n",
       "    </tr>\n",
       "    <tr>\n",
       "      <td>4</td>\n",
       "      <td>0.474488</td>\n",
       "      <td>0</td>\n",
       "    </tr>\n",
       "    <tr>\n",
       "      <td>...</td>\n",
       "      <td>...</td>\n",
       "      <td>...</td>\n",
       "    </tr>\n",
       "    <tr>\n",
       "      <td>2508</td>\n",
       "      <td>0.370149</td>\n",
       "      <td>0</td>\n",
       "    </tr>\n",
       "    <tr>\n",
       "      <td>2509</td>\n",
       "      <td>0.136572</td>\n",
       "      <td>1</td>\n",
       "    </tr>\n",
       "    <tr>\n",
       "      <td>2510</td>\n",
       "      <td>0.830426</td>\n",
       "      <td>1</td>\n",
       "    </tr>\n",
       "    <tr>\n",
       "      <td>2511</td>\n",
       "      <td>0.522149</td>\n",
       "      <td>1</td>\n",
       "    </tr>\n",
       "    <tr>\n",
       "      <td>2512</td>\n",
       "      <td>0.194001</td>\n",
       "      <td>0</td>\n",
       "    </tr>\n",
       "  </tbody>\n",
       "</table>\n",
       "<p>2513 rows × 2 columns</p>\n",
       "</div>"
      ],
      "text/plain": [
       "         y_hat  y_val\n",
       "0     0.088783      1\n",
       "1     0.089572      0\n",
       "2     0.534186      1\n",
       "3     0.068555      0\n",
       "4     0.474488      0\n",
       "...        ...    ...\n",
       "2508  0.370149      0\n",
       "2509  0.136572      1\n",
       "2510  0.830426      1\n",
       "2511  0.522149      1\n",
       "2512  0.194001      0\n",
       "\n",
       "[2513 rows x 2 columns]"
      ]
     },
     "execution_count": 31,
     "metadata": {},
     "output_type": "execute_result"
    }
   ],
   "source": [
    "ydf"
   ]
  },
  {
   "cell_type": "code",
   "execution_count": null,
   "metadata": {},
   "outputs": [],
   "source": []
  }
 ],
 "metadata": {
  "kernelspec": {
   "display_name": "Python 3",
   "language": "python",
   "name": "python3"
  },
  "language_info": {
   "codemirror_mode": {
    "name": "ipython",
    "version": 3
   },
   "file_extension": ".py",
   "mimetype": "text/x-python",
   "name": "python",
   "nbconvert_exporter": "python",
   "pygments_lexer": "ipython3",
   "version": "3.7.4"
  }
 },
 "nbformat": 4,
 "nbformat_minor": 2
}
